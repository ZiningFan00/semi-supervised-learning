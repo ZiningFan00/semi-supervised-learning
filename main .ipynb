{
  "nbformat": 4,
  "nbformat_minor": 0,
  "metadata": {
    "colab": {
      "name": "main.ipynb",
      "provenance": [],
      "collapsed_sections": []
    },
    "kernelspec": {
      "name": "python3",
      "display_name": "Python 3"
    },
    "accelerator": "GPU"
  },
  "cells": [
    {
      "cell_type": "code",
      "metadata": {
        "id": "Iu5BdPb99FrZ",
        "colab_type": "code",
        "outputId": "d18b1099-8252-4328-8e38-0de96a907815",
        "colab": {
          "base_uri": "https://localhost:8080/",
          "height": 34
        }
      },
      "source": [
        "ls"
      ],
      "execution_count": 1,
      "outputs": [
        {
          "output_type": "stream",
          "text": [
            "\u001b[0m\u001b[01;34msample_data\u001b[0m/\n"
          ],
          "name": "stdout"
        }
      ]
    },
    {
      "cell_type": "code",
      "metadata": {
        "id": "9nSca7voBDvn",
        "colab_type": "code",
        "outputId": "a9761e75-0a68-4fa4-d8bb-366551c4b132",
        "colab": {
          "base_uri": "https://localhost:8080/",
          "height": 34
        }
      },
      "source": [
        "import os\n",
        "os.chdir('/content/drive/My Drive/final_code/noisystudent-master') # root dictionary, the parent folder root of train and test folder\n",
        "os.getcwd()"
      ],
      "execution_count": 4,
      "outputs": [
        {
          "output_type": "execute_result",
          "data": {
            "text/plain": [
              "'/content/drive/My Drive/final_code/noisystudent-master'"
            ]
          },
          "metadata": {
            "tags": []
          },
          "execution_count": 4
        }
      ]
    },
    {
      "cell_type": "code",
      "metadata": {
        "id": "c1hzMP-LN-U9",
        "colab_type": "code",
        "colab": {
          "base_uri": "https://localhost:8080/",
          "height": 121
        },
        "outputId": "47c17fa4-a18b-4a49-a529-314e7188d079"
      },
      "source": [
        "from google.colab import drive\n",
        "drive.mount('/content/drive')"
      ],
      "execution_count": 3,
      "outputs": [
        {
          "output_type": "stream",
          "text": [
            "Go to this URL in a browser: https://accounts.google.com/o/oauth2/auth?client_id=947318989803-6bn6qk8qdgf4n4g3pfee6491hc0brc4i.apps.googleusercontent.com&redirect_uri=urn%3aietf%3awg%3aoauth%3a2.0%3aoob&response_type=code&scope=email%20https%3a%2f%2fwww.googleapis.com%2fauth%2fdocs.test%20https%3a%2f%2fwww.googleapis.com%2fauth%2fdrive%20https%3a%2f%2fwww.googleapis.com%2fauth%2fdrive.photos.readonly%20https%3a%2f%2fwww.googleapis.com%2fauth%2fpeopleapi.readonly\n",
            "\n",
            "Enter your authorization code:\n",
            "··········\n",
            "Mounted at /content/drive\n"
          ],
          "name": "stdout"
        }
      ]
    },
    {
      "cell_type": "code",
      "metadata": {
        "id": "7va_2LfKLoj2",
        "colab_type": "code",
        "outputId": "d704e2b8-e76a-468e-93bb-9e0d9d74fadc",
        "colab": {
          "base_uri": "https://localhost:8080/",
          "height": 34
        }
      },
      "source": [
        "%tensorflow_version 1.x"
      ],
      "execution_count": 5,
      "outputs": [
        {
          "output_type": "stream",
          "text": [
            "TensorFlow 1.x selected.\n"
          ],
          "name": "stdout"
        }
      ]
    },
    {
      "cell_type": "code",
      "metadata": {
        "id": "3sSsJNB-MBe9",
        "colab_type": "code",
        "outputId": "e456b578-ddf0-4014-e717-5f13ad87fdd2",
        "colab": {
          "base_uri": "https://localhost:8080/",
          "height": 34
        }
      },
      "source": [
        "import tensorflow as tf\n",
        "tf.__version__"
      ],
      "execution_count": 6,
      "outputs": [
        {
          "output_type": "execute_result",
          "data": {
            "text/plain": [
              "'1.15.2'"
            ]
          },
          "metadata": {
            "tags": []
          },
          "execution_count": 6
        }
      ]
    },
    {
      "cell_type": "code",
      "metadata": {
        "id": "DnbDGAKYCJqe",
        "colab_type": "code",
        "colab": {}
      },
      "source": [
        "import sys\n",
        "\n",
        "sys.path[0]='/tensorflow-1.15.2/python3.6'\n",
        "sys.path"
      ],
      "execution_count": 0,
      "outputs": []
    },
    {
      "cell_type": "code",
      "metadata": {
        "id": "_HRtJaK2GDDv",
        "colab_type": "code",
        "outputId": "33cc1543-0730-4141-cd7f-b974566ce685",
        "colab": {
          "base_uri": "https://localhost:8080/",
          "height": 50
        }
      },
      "source": [
        "from __future__ import print_function\n",
        "\n",
        "from keras.datasets import mnist\n",
        "import keras\n",
        "import random\n",
        "from sklearn.metrics import accuracy_score\n",
        "import numpy as np\n",
        "\n",
        "from ladder_net import get_ladder_network_fc\n",
        "\n",
        "inp_size = 28*28 # size of mnist dataset \n",
        "n_classes = 10\n",
        "(x_train, y_train), (x_test, y_test) = mnist.load_data()\n",
        "\n",
        "x_train = x_train.reshape(60000, inp_size).astype('float32')/255\n",
        "x_test  = x_test.reshape(10000,  inp_size).astype('float32')/255\n",
        "\n",
        "y_train = keras.utils.to_categorical(y_train, n_classes)\n",
        "y_test  = keras.utils.to_categorical(y_test,  n_classes)\n",
        "\n",
        "idxs_label = range(x_train.shape[0])\n",
        "idxs_unlabel = range(x_train.shape[0])\n",
        "random.seed(0)\n",
        "idxs_label = np.random.choice(x_train.shape[0], 1000)\n",
        "random.seed(1)\n",
        "idxs_unlabel = np.random.choice(x_train.shape[0], 50000)\n",
        "x_train_unlabeled = x_train[idxs_unlabel]\n",
        "y_train_unlabeled = y_train[idxs_unlabel]\n",
        "x_train_labeled   = x_train[idxs_label]\n",
        "y_train_labeled   = y_train[idxs_label]\n",
        "\n",
        "n_rep = x_train_unlabeled.shape[0] // x_train_labeled.shape[0]\n",
        "x_train_labeled_rep = np.concatenate([x_train_labeled]*n_rep)\n",
        "y_train_labeled_rep = np.concatenate([y_train_labeled]*n_rep)\n",
        " \n",
        "model = get_ladder_network_fc(layer_sizes=[inp_size, 1000, 500, 250, 250, 250, n_classes])\n",
        "\n",
        "# train the model for 3 epochs\n",
        "for _ in range(3):\n",
        "    model.fit([x_train_labeled_rep, x_train_unlabeled], y_train_labeled_rep, epochs=1)\n",
        "    y_test_pr = model.test_model.predict(x_test, batch_size=100)\n",
        "    print(\"Test accuracy : %f\" % accuracy_score(y_test.argmax(-1), y_test_pr.argmax(-1)))"
      ],
      "execution_count": 0,
      "outputs": [
        {
          "output_type": "stream",
          "text": [
            "Epoch 1/1\n",
            "15904/50000 [========>.....................] - ETA: 1:17 - loss: 17.4496 - acc: 0.8710 - den_loss: 16.7641"
          ],
          "name": "stdout"
        }
      ]
    }
  ]
}