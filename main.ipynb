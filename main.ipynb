{
  "nbformat": 4,
  "nbformat_minor": 0,
  "metadata": {
    "colab": {
      "name": "main.ipynb",
      "provenance": [],
      "collapsed_sections": []
    },
    "kernelspec": {
      "name": "python3",
      "display_name": "Python 3"
    },
    "accelerator": "GPU"
  },
  "cells": [
    {
      "cell_type": "code",
      "metadata": {
        "id": "c1hzMP-LN-U9",
        "colab_type": "code",
        "outputId": "523287a8-0fd0-4588-c7c9-49e11f6411ba",
        "colab": {
          "base_uri": "https://localhost:8080/",
          "height": 34
        }
      },
      "source": [
        "# import google drive\n",
        "from google.colab import drive\n",
        "drive.mount('/content/drive')"
      ],
      "execution_count": 0,
      "outputs": [
        {
          "output_type": "stream",
          "text": [
            "Drive already mounted at /content/drive; to attempt to forcibly remount, call drive.mount(\"/content/drive\", force_remount=True).\n"
          ],
          "name": "stdout"
        }
      ]
    },
    {
      "cell_type": "code",
      "metadata": {
        "id": "9nSca7voBDvn",
        "colab_type": "code",
        "outputId": "9f219578-ad72-443d-e011-f67e4617da99",
        "colab": {
          "base_uri": "https://localhost:8080/",
          "height": 34
        }
      },
      "source": [
        "# this is the file path of ladder_net.py file\n",
        "import os\n",
        "os.chdir('/content/drive/My Drive/final_code/noisystudent-master') # root dictionary, the parent folder root of train and test folder\n",
        "os.getcwd()"
      ],
      "execution_count": 0,
      "outputs": [
        {
          "output_type": "execute_result",
          "data": {
            "text/plain": [
              "'/content/drive/My Drive/final_code/noisystudent-master'"
            ]
          },
          "metadata": {
            "tags": []
          },
          "execution_count": 6
        }
      ]
    },
    {
      "cell_type": "code",
      "metadata": {
        "id": "Iu5BdPb99FrZ",
        "colab_type": "code",
        "outputId": "7741323c-1b83-4d39-89a7-59b8ed04f72e",
        "colab": {
          "base_uri": "https://localhost:8080/",
          "height": 134
        }
      },
      "source": [
        "ls"
      ],
      "execution_count": 0,
      "outputs": [
        {
          "output_type": "stream",
          "text": [
            "CONTRIBUTING.md          \u001b[0m\u001b[01;34mlocal_scripts\u001b[0m/           proc_svhn.py\n",
            "data_input.py            main.ipynb               \u001b[01;34m__pycache__\u001b[0m/\n",
            "efficientnet_builder.py  main.py                  randaugment.py\n",
            "efficientnet_model.py    mnist_example.py         README.md\n",
            "ladder_net_dropout.py    noisystudent_svhn.ipynb  task_info.py\n",
            "ladder_net.py            pic_500.xlsx             utils.py\n",
            "LICENSE                  preprocessing.py\n"
          ],
          "name": "stdout"
        }
      ]
    },
    {
      "cell_type": "code",
      "metadata": {
        "id": "7va_2LfKLoj2",
        "colab_type": "code",
        "outputId": "8b8d2f68-f5be-40d7-e36c-06d506c4ce66",
        "colab": {
          "base_uri": "https://localhost:8080/",
          "height": 34
        }
      },
      "source": [
        "#Select TensorFlow 1.x\n",
        "%tensorflow_version 1.x"
      ],
      "execution_count": 0,
      "outputs": [
        {
          "output_type": "stream",
          "text": [
            "TensorFlow 1.x selected.\n"
          ],
          "name": "stdout"
        }
      ]
    },
    {
      "cell_type": "code",
      "metadata": {
        "id": "3sSsJNB-MBe9",
        "colab_type": "code",
        "outputId": "52b4974a-804b-453f-b6f9-8fd6c32048c6",
        "colab": {
          "base_uri": "https://localhost:8080/",
          "height": 34
        }
      },
      "source": [
        "# Show the version of tensorflow\n",
        "import tensorflow as tf\n",
        "tf.__version__"
      ],
      "execution_count": 0,
      "outputs": [
        {
          "output_type": "execute_result",
          "data": {
            "text/plain": [
              "'1.15.2'"
            ]
          },
          "metadata": {
            "tags": []
          },
          "execution_count": 3
        }
      ]
    },
    {
      "cell_type": "code",
      "metadata": {
        "id": "2AkoP62YC_xa",
        "colab_type": "code",
        "outputId": "a1fc2757-8550-426b-da41-c1445648854c",
        "colab": {
          "base_uri": "https://localhost:8080/",
          "height": 357
        }
      },
      "source": [
        "!pip install keras==2.2.5"
      ],
      "execution_count": 0,
      "outputs": [
        {
          "output_type": "stream",
          "text": [
            "Collecting keras==2.2.5\n",
            "\u001b[?25l  Downloading https://files.pythonhosted.org/packages/f8/ba/2d058dcf1b85b9c212cc58264c98a4a7dd92c989b798823cc5690d062bb2/Keras-2.2.5-py2.py3-none-any.whl (336kB)\n",
            "\r\u001b[K     |█                               | 10kB 25.7MB/s eta 0:00:01\r\u001b[K     |██                              | 20kB 6.2MB/s eta 0:00:01\r\u001b[K     |███                             | 30kB 8.7MB/s eta 0:00:01\r\u001b[K     |████                            | 40kB 11.0MB/s eta 0:00:01\r\u001b[K     |████▉                           | 51kB 7.2MB/s eta 0:00:01\r\u001b[K     |█████▉                          | 61kB 8.3MB/s eta 0:00:01\r\u001b[K     |██████▉                         | 71kB 9.4MB/s eta 0:00:01\r\u001b[K     |███████▉                        | 81kB 10.4MB/s eta 0:00:01\r\u001b[K     |████████▊                       | 92kB 8.3MB/s eta 0:00:01\r\u001b[K     |█████████▊                      | 102kB 9.1MB/s eta 0:00:01\r\u001b[K     |██████████▊                     | 112kB 9.1MB/s eta 0:00:01\r\u001b[K     |███████████▊                    | 122kB 9.1MB/s eta 0:00:01\r\u001b[K     |████████████▊                   | 133kB 9.1MB/s eta 0:00:01\r\u001b[K     |█████████████▋                  | 143kB 9.1MB/s eta 0:00:01\r\u001b[K     |██████████████▋                 | 153kB 9.1MB/s eta 0:00:01\r\u001b[K     |███████████████▋                | 163kB 9.1MB/s eta 0:00:01\r\u001b[K     |████████████████▋               | 174kB 9.1MB/s eta 0:00:01\r\u001b[K     |█████████████████▌              | 184kB 9.1MB/s eta 0:00:01\r\u001b[K     |██████████████████▌             | 194kB 9.1MB/s eta 0:00:01\r\u001b[K     |███████████████████▌            | 204kB 9.1MB/s eta 0:00:01\r\u001b[K     |████████████████████▌           | 215kB 9.1MB/s eta 0:00:01\r\u001b[K     |█████████████████████▍          | 225kB 9.1MB/s eta 0:00:01\r\u001b[K     |██████████████████████▍         | 235kB 9.1MB/s eta 0:00:01\r\u001b[K     |███████████████████████▍        | 245kB 9.1MB/s eta 0:00:01\r\u001b[K     |████████████████████████▍       | 256kB 9.1MB/s eta 0:00:01\r\u001b[K     |█████████████████████████▍      | 266kB 9.1MB/s eta 0:00:01\r\u001b[K     |██████████████████████████▎     | 276kB 9.1MB/s eta 0:00:01\r\u001b[K     |███████████████████████████▎    | 286kB 9.1MB/s eta 0:00:01\r\u001b[K     |████████████████████████████▎   | 296kB 9.1MB/s eta 0:00:01\r\u001b[K     |█████████████████████████████▎  | 307kB 9.1MB/s eta 0:00:01\r\u001b[K     |██████████████████████████████▏ | 317kB 9.1MB/s eta 0:00:01\r\u001b[K     |███████████████████████████████▏| 327kB 9.1MB/s eta 0:00:01\r\u001b[K     |████████████████████████████████| 337kB 9.1MB/s \n",
            "\u001b[?25hRequirement already satisfied: keras-preprocessing>=1.1.0 in /usr/local/lib/python3.6/dist-packages (from keras==2.2.5) (1.1.0)\n",
            "Requirement already satisfied: h5py in /usr/local/lib/python3.6/dist-packages (from keras==2.2.5) (2.10.0)\n",
            "Requirement already satisfied: keras-applications>=1.0.8 in /usr/local/lib/python3.6/dist-packages (from keras==2.2.5) (1.0.8)\n",
            "Requirement already satisfied: numpy>=1.9.1 in /usr/local/lib/python3.6/dist-packages (from keras==2.2.5) (1.18.3)\n",
            "Requirement already satisfied: scipy>=0.14 in /usr/local/lib/python3.6/dist-packages (from keras==2.2.5) (1.4.1)\n",
            "Requirement already satisfied: six>=1.9.0 in /usr/local/lib/python3.6/dist-packages (from keras==2.2.5) (1.12.0)\n",
            "Requirement already satisfied: pyyaml in /usr/local/lib/python3.6/dist-packages (from keras==2.2.5) (3.13)\n",
            "Installing collected packages: keras\n",
            "  Found existing installation: Keras 2.3.1\n",
            "    Uninstalling Keras-2.3.1:\n",
            "      Successfully uninstalled Keras-2.3.1\n",
            "Successfully installed keras-2.2.5\n"
          ],
          "name": "stdout"
        },
        {
          "output_type": "display_data",
          "data": {
            "application/vnd.colab-display-data+json": {
              "pip_warning": {
                "packages": [
                  "keras"
                ]
              }
            }
          },
          "metadata": {
            "tags": []
          }
        }
      ]
    },
    {
      "cell_type": "code",
      "metadata": {
        "id": "_HRtJaK2GDDv",
        "colab_type": "code",
        "colab": {}
      },
      "source": [
        "# Find the best ratio of mnist dataset\n",
        "from __future__ import print_function\n",
        "\n",
        "from keras.datasets import mnist\n",
        "import keras\n",
        "import random\n",
        "from sklearn.metrics import accuracy_score\n",
        "import numpy as np\n",
        "\n",
        "from ladder_net import get_ladder_network_fc\n",
        "\n",
        "inp_size = 28*28 # size of mnist dataset \n",
        "n_classes = 10 # number of classes\n",
        "(x_train, y_train), (x_test, y_test) = mnist.load_data()\n",
        "\n",
        "x_train = x_train.reshape(60000, inp_size).astype('float32')/255\n",
        "x_test  = x_test.reshape(10000,  inp_size).astype('float32')/255\n",
        "\n",
        "y_train = keras.utils.to_categorical(y_train, n_classes)\n",
        "y_test  = keras.utils.to_categorical(y_test,  n_classes)\n",
        "\n",
        "idxs_label = range(x_train.shape[0])\n",
        "idxs_unlabel = range(x_train.shape[0])\n",
        "# size_list is the list of the size of unlabeled data\n",
        "size_list=[1,10,50,100,250,500,1000,1500,3000,5000,7500,10000,15000,20000,25000,30000,35000,40000,45000,50000,55000,59500]\n",
        "acc_list=[]\n",
        "labeled_size=500\n",
        "for unlabel_size in size_list:\n",
        "  random.seed(0)\n",
        "  idxs_label = np.random.choice(x_train.shape[0], labeled_size, replace=False)\n",
        "  random.seed(1)\n",
        "  idxs_unlabel = np.random.choice(x_train.shape[0], unlabel_size, replace=False)\n",
        "  x_train_unlabeled = x_train[idxs_unlabel]\n",
        "  y_train_unlabeled = y_train[idxs_unlabel]\n",
        "  x_train_labeled   = x_train[idxs_label]\n",
        "  y_train_labeled   = y_train[idxs_label]\n",
        "  if unlabel_size>=labeled_size:\n",
        "    n_rep = x_train_unlabeled.shape[0] // x_train_labeled.shape[0]\n",
        "    x_train_labeled_rep = np.concatenate([x_train_labeled]*n_rep)\n",
        "    y_train_labeled_rep = np.concatenate([y_train_labeled]*n_rep)\n",
        "  else:\n",
        "    n_rep = x_train_labeled.shape[0] // x_train_unlabeled.shape[0]\n",
        "    x_train_unlabeled_rep = np.concatenate([x_train_unlabeled]*n_rep)\n",
        "    y_train_unlabeled_rep = np.concatenate([y_train_unlabeled]*n_rep)\n",
        "  \n",
        "  model = get_ladder_network_fc(layer_sizes=[inp_size, 1000, 500, 250, 250, 250, n_classes])\n",
        "\n",
        "  # train the model for 10 epochs\n",
        "  for _ in range(10):\n",
        "      if unlabel_size>=labeled_size:\n",
        "        model.fit([x_train_labeled_rep, x_train_unlabeled], y_train_labeled_rep, epochs=1)\n",
        "      else:\n",
        "        model.fit([x_train_labeled, x_train_unlabeled_rep], y_train_labeled, epochs=1)\n",
        "      y_test_pr = model.test_model.predict(x_test, batch_size=100)\n",
        "      acc=accuracy_score(y_test.argmax(-1), y_test_pr.argmax(-1))\n",
        "      print(\"Test accuracy : %f\" % acc)\n",
        "  acc_list.append(acc)"
      ],
      "execution_count": 0,
      "outputs": []
    },
    {
      "cell_type": "code",
      "metadata": {
        "id": "BEWhR3dH3M1l",
        "colab_type": "code",
        "outputId": "fcdce8ba-2c83-47f5-d258-4f099af7df0d",
        "colab": {
          "base_uri": "https://localhost:8080/",
          "height": 295
        }
      },
      "source": [
        "# plot test accuracy vs the ratio of unlabeled data and labeled data\n",
        "import matplotlib.pyplot as plt\n",
        "size_list_plot=np.array(size_list)\n",
        "plt.plot(size_list_plot/500, acc_list)  \n",
        "plt.title(\"Test accuracy vs the ratio of unlabeled data and labeled data\")\n",
        "plt.xlabel(\"number of unlabeled data as multiple of labeled data\")\n",
        "plt.ylabel(\"test accuracy\")\n",
        "\n",
        "plt.ylim(0.8, 1)\n",
        "plt.show()  "
      ],
      "execution_count": 0,
      "outputs": [
        {
          "output_type": "display_data",
          "data": {
            "image/png": "[encoded data removed]",
            "text/plain": [
              "<Figure size 432x288 with 1 Axes>"
            ]
          },
          "metadata": {
            "tags": []
          }
        }
      ]
    },
    {
      "cell_type": "code",
      "metadata": {
        "id": "MeKkb1ZEMIxp",
        "colab_type": "code",
        "outputId": "74c41532-9502-491d-b5b3-716cd70da3ff",
        "colab": {
          "base_uri": "https://localhost:8080/",
          "height": 54
        }
      },
      "source": [
        "# print accuracy list\n",
        "print(acc_list)"
      ],
      "execution_count": 0,
      "outputs": [
        {
          "output_type": "stream",
          "text": [
            "[0.7407, 0.8084, 0.8477, 0.8715, 0.8735, 0.8879, 0.8754, 0.8795, 0.883, 0.8894, 0.8327, 0.8576, 0.8726, 0.8753, 0.8757, 0.88, 0.8916, 0.8808, 0.8895, 0.8828, 0.8731, 0.8839, 0.8872, 0.8946, 0.8998, 0.8991, 0.8962, 0.8964, 0.8971, 0.8996, 0.8706, 0.8748, 0.8877, 0.8974, 0.8961, 0.9005, 0.8963, 0.9052, 0.9098, 0.9076, 0.8912, 0.9031, 0.9099, 0.9173, 0.9132, 0.9242, 0.9195, 0.9252, 0.9274, 0.9324, 0.8968, 0.9141, 0.9158, 0.9281, 0.9289, 0.926, 0.9338, 0.9396, 0.9418, 0.9391, 0.9084, 0.9129, 0.9146, 0.9311, 0.9236, 0.9374, 0.9318, 0.9471, 0.9431, 0.948, 0.9072, 0.9225, 0.9279, 0.9286, 0.9445, 0.9425, 0.9453, 0.948, 0.9502, 0.9448, 0.9177, 0.9251, 0.9358, 0.938, 0.9391, 0.9457, 0.949, 0.9469, 0.9529, 0.9542, 0.9189, 0.9318, 0.9391, 0.9414, 0.9456, 0.9515, 0.9487, 0.9517, 0.951, 0.9552, 0.9058, 0.9233, 0.9297, 0.9322, 0.9431, 0.9444, 0.9522, 0.9538, 0.951, 0.9529, 0.9172, 0.9269, 0.9285, 0.9406, 0.9465, 0.9462, 0.9538, 0.9513, 0.9504, 0.9546, 0.9147, 0.9366, 0.9375, 0.9469, 0.9468, 0.9538, 0.9491, 0.9541, 0.9624, 0.9596, 0.9236, 0.9382, 0.9406, 0.9491, 0.9504, 0.9536, 0.9551, 0.9586, 0.9577, 0.9601]\n"
          ],
          "name": "stdout"
        }
      ]
    },
    {
      "cell_type": "code",
      "metadata": {
        "id": "cw6BnayQQRoo",
        "colab_type": "code",
        "colab": {}
      },
      "source": [
        "# Delete all gaussian noise in the model above, find the result.\n",
        "from __future__ import print_function\n",
        "\n",
        "from keras.datasets import mnist\n",
        "import keras\n",
        "import random\n",
        "from sklearn.metrics import accuracy_score\n",
        "import numpy as np\n",
        "\n",
        "from ladder_net import get_ladder_network_fc\n",
        "\n",
        "inp_size = 28*28 # size of mnist dataset \n",
        "n_classes = 10\n",
        "(x_train, y_train), (x_test, y_test) = mnist.load_data()\n",
        "\n",
        "x_train = x_train.reshape(60000, inp_size).astype('float32')/255\n",
        "x_test  = x_test.reshape(10000,  inp_size).astype('float32')/255\n",
        "\n",
        "y_train = keras.utils.to_categorical(y_train, n_classes)\n",
        "y_test  = keras.utils.to_categorical(y_test,  n_classes)\n",
        "\n",
        "idxs_label = range(x_train.shape[0])\n",
        "idxs_unlabel = range(x_train.shape[0])\n",
        "\n",
        "size_list=[1,10,50,100,250,500,1000,1500,3000,5000,7500,10000,15000,20000,25000,30000,35000,40000,45000,50000,55000,59500]\n",
        "acc_list=[]\n",
        "labeled_size=500\n",
        "for unlabel_size in size_list:\n",
        "  random.seed(0)\n",
        "  idxs_label = np.random.choice(x_train.shape[0], labeled_size, replace=False)\n",
        "  random.seed(1)\n",
        "  idxs_unlabel = np.random.choice(x_train.shape[0], unlabel_size, replace=False)\n",
        "  x_train_unlabeled = x_train[idxs_unlabel]\n",
        "  y_train_unlabeled = y_train[idxs_unlabel]\n",
        "  x_train_labeled   = x_train[idxs_label]\n",
        "  y_train_labeled   = y_train[idxs_label]\n",
        "  if unlabel_size>=labeled_size:\n",
        "    n_rep = x_train_unlabeled.shape[0] // x_train_labeled.shape[0]\n",
        "    x_train_labeled_rep = np.concatenate([x_train_labeled]*n_rep)\n",
        "    y_train_labeled_rep = np.concatenate([y_train_labeled]*n_rep)\n",
        "  else:\n",
        "    n_rep = x_train_labeled.shape[0] // x_train_unlabeled.shape[0]\n",
        "    x_train_unlabeled_rep = np.concatenate([x_train_unlabeled]*n_rep)\n",
        "    y_train_unlabeled_rep = np.concatenate([y_train_unlabeled]*n_rep)\n",
        "  \n",
        "  model = get_ladder_network_fc(layer_sizes=[inp_size, 1000, 500, 250, 250, 250, n_classes],noise_std=0)\n",
        "\n",
        "  # train the model for 10 epochs\n",
        "  for _ in range(10):\n",
        "      if unlabel_size>=labeled_size:\n",
        "        model.fit([x_train_labeled_rep, x_train_unlabeled], y_train_labeled_rep, epochs=1)\n",
        "      else:\n",
        "        model.fit([x_train_labeled, x_train_unlabeled_rep], y_train_labeled, epochs=1)\n",
        "      y_test_pr = model.test_model.predict(x_test, batch_size=100)\n",
        "      acc=accuracy_score(y_test.argmax(-1), y_test_pr.argmax(-1))\n",
        "      print(\"Test accuracy : %f\" % acc)\n",
        "  acc_list.append(acc)"
      ],
      "execution_count": 0,
      "outputs": []
    },
    {
      "cell_type": "code",
      "metadata": {
        "id": "Q358sLirQR3h",
        "colab_type": "code",
        "colab": {}
      },
      "source": [
        "# plot test accuracy vs the ratio of unlabeled data and labeled data\n",
        "import matplotlib.pyplot as plt\n",
        "size_list_plot=np.array(size_list)\n",
        "plt.plot(size_list_plot/500, acc_list)  \n",
        "plt.title(\"Test accuracy vs the ratio of unlabeled data and labeled data\")\n",
        "plt.xlabel(\"number of unlabeled data as multiple of labeled data\")\n",
        "plt.ylabel(\"test accuracy\")\n",
        "\n",
        "plt.ylim(0.7, 1)\n",
        "plt.show()  "
      ],
      "execution_count": 0,
      "outputs": []
    },
    {
      "cell_type": "code",
      "metadata": {
        "id": "79lQCkROw7-c",
        "colab_type": "code",
        "outputId": "106e7892-3548-491d-f8c1-4d1c9a09b305",
        "colab": {
          "base_uri": "https://localhost:8080/",
          "height": 1000
        }
      },
      "source": [
        "#Change the norm of the gaussian noise\n",
        "from __future__ import print_function\n",
        "\n",
        "from keras.datasets import mnist\n",
        "import keras\n",
        "import random\n",
        "from sklearn.metrics import accuracy_score\n",
        "import numpy as np\n",
        "\n",
        "from ladder_net import get_ladder_network_fc\n",
        "\n",
        "inp_size = 28*28 # size of mnist dataset \n",
        "n_classes = 10\n",
        "(x_train, y_train), (x_test, y_test) = mnist.load_data()\n",
        "\n",
        "x_train = x_train.reshape(60000, inp_size).astype('float32')/255\n",
        "x_test  = x_test.reshape(10000,  inp_size).astype('float32')/255\n",
        "\n",
        "y_train = keras.utils.to_categorical(y_train, n_classes)\n",
        "y_test  = keras.utils.to_categorical(y_test,  n_classes)\n",
        "\n",
        "idxs_label = range(x_train.shape[0])\n",
        "idxs_unlabel = range(x_train.shape[0])\n",
        "# noise_list is the list of the norm of noise\n",
        "noise_list=[0,0.05,0.1,0.15,0.2,0.25,0.3,0.35,0.4,0.45,0.5]\n",
        "acc_list_noise=[]\n",
        "labeled_size=500\n",
        "unlabel_size=40000\n",
        "random.seed(0)\n",
        "idxs_label = np.random.choice(x_train.shape[0], labeled_size, replace=False)\n",
        "random.seed(1)\n",
        "idxs_unlabel = np.random.choice(x_train.shape[0], unlabel_size, replace=False)\n",
        "x_train_unlabeled = x_train[idxs_unlabel]\n",
        "y_train_unlabeled = y_train[idxs_unlabel]\n",
        "x_train_labeled   = x_train[idxs_label]\n",
        "y_train_labeled   = y_train[idxs_label]\n",
        "if unlabel_size>=labeled_size:\n",
        "  n_rep = x_train_unlabeled.shape[0] // x_train_labeled.shape[0]\n",
        "  x_train_labeled_rep = np.concatenate([x_train_labeled]*n_rep)\n",
        "  y_train_labeled_rep = np.concatenate([y_train_labeled]*n_rep)\n",
        "else:\n",
        "  n_rep = x_train_labeled.shape[0] // x_train_unlabeled.shape[0]\n",
        "  x_train_unlabeled_rep = np.concatenate([x_train_unlabeled]*n_rep)\n",
        "  y_train_unlabeled_rep = np.concatenate([y_train_unlabeled]*n_rep)\n",
        "for noise in noise_list:  \n",
        "  model = get_ladder_network_fc(layer_sizes=[inp_size, 1000, 500, 250, 250, 250, n_classes],noise_std=noise)\n",
        "\n",
        "  # train the model for 10 epochs\n",
        "  for _ in range(10):\n",
        "      if unlabel_size>=labeled_size:\n",
        "        model.fit([x_train_labeled_rep, x_train_unlabeled], y_train_labeled_rep, epochs=1)\n",
        "      else:\n",
        "        model.fit([x_train_labeled, x_train_unlabeled_rep], y_train_labeled, epochs=1)\n",
        "      y_test_pr = model.test_model.predict(x_test, batch_size=100)\n",
        "      acc=accuracy_score(y_test.argmax(-1), y_test_pr.argmax(-1))\n",
        "      print(\"Test accuracy : %f\" % acc)\n",
        "  acc_list_noise.append(acc)  "
      ],
      "execution_count": 0,
      "outputs": [
        {
          "output_type": "stream",
          "text": [
            "Using TensorFlow backend.\n"
          ],
          "name": "stderr"
        },
        {
          "output_type": "stream",
          "text": [
            "Downloading data from https://s3.amazonaws.com/img-datasets/mnist.npz\n",
            "11493376/11490434 [==============================] - 1s 0us/step\n",
            "WARNING:tensorflow:From /content/drive/My Drive/final_code/noisystudent-master/ladder_net.py:78: The name tf.random_normal is deprecated. Please use tf.random.normal instead.\n",
            "\n",
            "WARNING:tensorflow:From /tensorflow-1.15.2/python3.6/tensorflow_core/python/ops/resource_variable_ops.py:1630: calling BaseResourceVariable.__init__ (from tensorflow.python.ops.resource_variable_ops) with constraint is deprecated and will be removed in a future version.\n",
            "Instructions for updating:\n",
            "If using Keras pass *_constraint arguments to layers.\n"
          ],
          "name": "stdout"
        },
        {
          "output_type": "stream",
          "text": [
            "/usr/local/lib/python3.6/dist-packages/keras/engine/training.py:297: UserWarning: Discrepancy between trainable weights and collected trainable weights, did you set `model.trainable` without calling `model.compile` after ?\n",
            "  'Discrepancy between trainable weights and collected trainable'\n"
          ],
          "name": "stderr"
        },
        {
          "output_type": "stream",
          "text": [
            "WARNING:tensorflow:From /tensorflow-1.15.2/python3.6/tensorflow_core/python/ops/math_grad.py:1424: where (from tensorflow.python.ops.array_ops) is deprecated and will be removed in a future version.\n",
            "Instructions for updating:\n",
            "Use tf.where in 2.0, which has the same broadcast rule as np.where\n",
            "WARNING:tensorflow:From /usr/local/lib/python3.6/dist-packages/keras/backend/tensorflow_backend.py:422: The name tf.global_variables is deprecated. Please use tf.compat.v1.global_variables instead.\n",
            "\n",
            "Epoch 1/1\n",
            "40000/40000 [==============================] - 85s 2ms/step - loss: 1.2690 - accuracy: 0.9743\n",
            "Test accuracy : 0.888700\n",
            "Epoch 1/1\n",
            "   96/40000 [..............................] - ETA: 1:17 - loss: 0.3493 - accuracy: 1.0000"
          ],
          "name": "stdout"
        },
        {
          "output_type": "stream",
          "text": [
            "/usr/local/lib/python3.6/dist-packages/keras/engine/training.py:297: UserWarning: Discrepancy between trainable weights and collected trainable weights, did you set `model.trainable` without calling `model.compile` after ?\n",
            "  'Discrepancy between trainable weights and collected trainable'\n"
          ],
          "name": "stderr"
        },
        {
          "output_type": "stream",
          "text": [
            "40000/40000 [==============================] - 80s 2ms/step - loss: 0.3970 - accuracy: 0.9934\n",
            "Test accuracy : 0.878400\n",
            "Epoch 1/1\n",
            "40000/40000 [==============================] - 79s 2ms/step - loss: 0.3986 - accuracy: 0.9933\n",
            "Test accuracy : 0.882200\n",
            "Epoch 1/1\n",
            "40000/40000 [==============================] - 79s 2ms/step - loss: 0.3934 - accuracy: 0.9952\n",
            "Test accuracy : 0.883500\n",
            "Epoch 1/1\n",
            "40000/40000 [==============================] - 79s 2ms/step - loss: 0.3905 - accuracy: 0.9959\n",
            "Test accuracy : 0.889500\n",
            "Epoch 1/1\n",
            "40000/40000 [==============================] - 80s 2ms/step - loss: 0.3864 - accuracy: 0.9979\n",
            "Test accuracy : 0.886400\n",
            "Epoch 1/1\n",
            "40000/40000 [==============================] - 80s 2ms/step - loss: 0.3850 - accuracy: 0.9975\n",
            "Test accuracy : 0.876700\n",
            "Epoch 1/1\n",
            "40000/40000 [==============================] - 80s 2ms/step - loss: 0.3872 - accuracy: 0.9973\n",
            "Test accuracy : 0.887100\n",
            "Epoch 1/1\n",
            "40000/40000 [==============================] - 80s 2ms/step - loss: 0.3824 - accuracy: 0.9989\n",
            "Test accuracy : 0.886800\n",
            "Epoch 1/1\n",
            "40000/40000 [==============================] - 82s 2ms/step - loss: 0.3836 - accuracy: 0.9980\n",
            "Test accuracy : 0.888000\n",
            "Epoch 1/1\n",
            "40000/40000 [==============================] - 88s 2ms/step - loss: 2.3405 - accuracy: 0.9734\n",
            "Test accuracy : 0.885300\n",
            "Epoch 1/1\n",
            "   64/40000 [..............................] - ETA: 1:25 - loss: 1.3248 - accuracy: 1.0000"
          ],
          "name": "stdout"
        },
        {
          "output_type": "stream",
          "text": [
            "/usr/local/lib/python3.6/dist-packages/keras/engine/training.py:297: UserWarning: Discrepancy between trainable weights and collected trainable weights, did you set `model.trainable` without calling `model.compile` after ?\n",
            "  'Discrepancy between trainable weights and collected trainable'\n"
          ],
          "name": "stderr"
        },
        {
          "output_type": "stream",
          "text": [
            "40000/40000 [==============================] - 82s 2ms/step - loss: 1.2564 - accuracy: 0.9931\n",
            "Test accuracy : 0.886800\n",
            "Epoch 1/1\n",
            "40000/40000 [==============================] - 81s 2ms/step - loss: 1.1567 - accuracy: 0.9953\n",
            "Test accuracy : 0.892800\n",
            "Epoch 1/1\n",
            "40000/40000 [==============================] - 81s 2ms/step - loss: 1.1197 - accuracy: 0.9948\n",
            "Test accuracy : 0.905300\n",
            "Epoch 1/1\n",
            "40000/40000 [==============================] - 81s 2ms/step - loss: 1.0967 - accuracy: 0.9968\n",
            "Test accuracy : 0.908900\n",
            "Epoch 1/1\n",
            "40000/40000 [==============================] - 80s 2ms/step - loss: 1.0817 - accuracy: 0.9983\n",
            "Test accuracy : 0.898800\n",
            "Epoch 1/1\n",
            "40000/40000 [==============================] - 80s 2ms/step - loss: 1.0736 - accuracy: 0.9969\n",
            "Test accuracy : 0.905000\n",
            "Epoch 1/1\n",
            "40000/40000 [==============================] - 81s 2ms/step - loss: 1.0552 - accuracy: 0.9993\n",
            "Test accuracy : 0.909400\n",
            "Epoch 1/1\n",
            "40000/40000 [==============================] - 81s 2ms/step - loss: 1.0557 - accuracy: 0.9979\n",
            "Test accuracy : 0.887600\n",
            "Epoch 1/1\n",
            "40000/40000 [==============================] - 81s 2ms/step - loss: 1.0440 - accuracy: 0.9975\n",
            "Test accuracy : 0.891300\n",
            "Epoch 1/1\n",
            "40000/40000 [==============================] - 86s 2ms/step - loss: 4.2940 - accuracy: 0.9729\n",
            "Test accuracy : 0.905100\n",
            "Epoch 1/1\n",
            "   96/40000 [..............................] - ETA: 1:15 - loss: 2.9999 - accuracy: 0.9583"
          ],
          "name": "stdout"
        },
        {
          "output_type": "stream",
          "text": [
            "/usr/local/lib/python3.6/dist-packages/keras/engine/training.py:297: UserWarning: Discrepancy between trainable weights and collected trainable weights, did you set `model.trainable` without calling `model.compile` after ?\n",
            "  'Discrepancy between trainable weights and collected trainable'\n"
          ],
          "name": "stderr"
        },
        {
          "output_type": "stream",
          "text": [
            "40000/40000 [==============================] - 80s 2ms/step - loss: 2.6982 - accuracy: 0.9920\n",
            "Test accuracy : 0.908800\n",
            "Epoch 1/1\n",
            "40000/40000 [==============================] - 81s 2ms/step - loss: 2.5334 - accuracy: 0.9955\n",
            "Test accuracy : 0.911200\n",
            "Epoch 1/1\n",
            "40000/40000 [==============================] - 81s 2ms/step - loss: 2.4697 - accuracy: 0.9957\n",
            "Test accuracy : 0.906200\n",
            "Epoch 1/1\n",
            "40000/40000 [==============================] - 81s 2ms/step - loss: 2.4279 - accuracy: 0.9973\n",
            "Test accuracy : 0.910400\n",
            "Epoch 1/1\n",
            "40000/40000 [==============================] - 81s 2ms/step - loss: 2.3991 - accuracy: 0.9974\n",
            "Test accuracy : 0.914200\n",
            "Epoch 1/1\n",
            "40000/40000 [==============================] - 81s 2ms/step - loss: 2.3779 - accuracy: 0.9979\n",
            "Test accuracy : 0.914000\n",
            "Epoch 1/1\n",
            "40000/40000 [==============================] - 81s 2ms/step - loss: 2.3553 - accuracy: 0.9983\n",
            "Test accuracy : 0.916700\n",
            "Epoch 1/1\n",
            "40000/40000 [==============================] - 81s 2ms/step - loss: 2.3256 - accuracy: 0.9991\n",
            "Test accuracy : 0.917600\n",
            "Epoch 1/1\n",
            "40000/40000 [==============================] - 81s 2ms/step - loss: 2.3244 - accuracy: 0.9984\n",
            "Test accuracy : 0.913700\n",
            "Epoch 1/1\n",
            "40000/40000 [==============================] - 86s 2ms/step - loss: 6.5996 - accuracy: 0.9701\n",
            "Test accuracy : 0.907000\n",
            "Epoch 1/1\n",
            "   96/40000 [..............................] - ETA: 1:18 - loss: 4.5809 - accuracy: 1.0000"
          ],
          "name": "stdout"
        },
        {
          "output_type": "stream",
          "text": [
            "/usr/local/lib/python3.6/dist-packages/keras/engine/training.py:297: UserWarning: Discrepancy between trainable weights and collected trainable weights, did you set `model.trainable` without calling `model.compile` after ?\n",
            "  'Discrepancy between trainable weights and collected trainable'\n"
          ],
          "name": "stderr"
        },
        {
          "output_type": "stream",
          "text": [
            "40000/40000 [==============================] - 82s 2ms/step - loss: 4.5220 - accuracy: 0.9920\n",
            "Test accuracy : 0.901200\n",
            "Epoch 1/1\n",
            "40000/40000 [==============================] - 81s 2ms/step - loss: 4.3170 - accuracy: 0.9943\n",
            "Test accuracy : 0.909300\n",
            "Epoch 1/1\n",
            "40000/40000 [==============================] - 81s 2ms/step - loss: 4.2375 - accuracy: 0.9962\n",
            "Test accuracy : 0.916500\n",
            "Epoch 1/1\n",
            "40000/40000 [==============================] - 81s 2ms/step - loss: 4.1722 - accuracy: 0.9959\n",
            "Test accuracy : 0.906300\n",
            "Epoch 1/1\n",
            "40000/40000 [==============================] - 81s 2ms/step - loss: 4.1277 - accuracy: 0.9969\n",
            "Test accuracy : 0.912000\n",
            "Epoch 1/1\n",
            "40000/40000 [==============================] - 81s 2ms/step - loss: 4.0808 - accuracy: 0.9984\n",
            "Test accuracy : 0.922300\n",
            "Epoch 1/1\n",
            "40000/40000 [==============================] - 81s 2ms/step - loss: 4.0453 - accuracy: 0.9985\n",
            "Test accuracy : 0.920600\n",
            "Epoch 1/1\n",
            "40000/40000 [==============================] - 81s 2ms/step - loss: 4.0241 - accuracy: 0.9980\n",
            "Test accuracy : 0.920400\n",
            "Epoch 1/1\n",
            "40000/40000 [==============================] - 82s 2ms/step - loss: 3.9963 - accuracy: 0.9978\n",
            "Test accuracy : 0.931800\n",
            "Epoch 1/1\n",
            "40000/40000 [==============================] - 87s 2ms/step - loss: 9.0808 - accuracy: 0.9629\n",
            "Test accuracy : 0.909100\n",
            "Epoch 1/1\n",
            "   96/40000 [..............................] - ETA: 1:17 - loss: 6.8004 - accuracy: 0.9792"
          ],
          "name": "stdout"
        },
        {
          "output_type": "stream",
          "text": [
            "/usr/local/lib/python3.6/dist-packages/keras/engine/training.py:297: UserWarning: Discrepancy between trainable weights and collected trainable weights, did you set `model.trainable` without calling `model.compile` after ?\n",
            "  'Discrepancy between trainable weights and collected trainable'\n"
          ],
          "name": "stderr"
        },
        {
          "output_type": "stream",
          "text": [
            "40000/40000 [==============================] - 82s 2ms/step - loss: 6.6448 - accuracy: 0.9897\n",
            "Test accuracy : 0.914200\n",
            "Epoch 1/1\n",
            "40000/40000 [==============================] - 82s 2ms/step - loss: 6.4035 - accuracy: 0.9920\n",
            "Test accuracy : 0.911900\n",
            "Epoch 1/1\n",
            "40000/40000 [==============================] - 82s 2ms/step - loss: 6.2657 - accuracy: 0.9947\n",
            "Test accuracy : 0.929800\n",
            "Epoch 1/1\n",
            "40000/40000 [==============================] - 82s 2ms/step - loss: 6.1699 - accuracy: 0.9952\n",
            "Test accuracy : 0.930800\n",
            "Epoch 1/1\n",
            "40000/40000 [==============================] - 82s 2ms/step - loss: 6.0957 - accuracy: 0.9962\n",
            "Test accuracy : 0.937100\n",
            "Epoch 1/1\n",
            "40000/40000 [==============================] - 82s 2ms/step - loss: 6.0097 - accuracy: 0.9974\n",
            "Test accuracy : 0.928000\n",
            "Epoch 1/1\n",
            "40000/40000 [==============================] - 82s 2ms/step - loss: 5.9611 - accuracy: 0.9971\n",
            "Test accuracy : 0.938700\n",
            "Epoch 1/1\n",
            "40000/40000 [==============================] - 82s 2ms/step - loss: 5.9197 - accuracy: 0.9979\n",
            "Test accuracy : 0.938100\n",
            "Epoch 1/1\n",
            "40000/40000 [==============================] - 83s 2ms/step - loss: 5.8596 - accuracy: 0.9980\n",
            "Test accuracy : 0.942700\n",
            "Epoch 1/1\n",
            "40000/40000 [==============================] - 88s 2ms/step - loss: 11.6640 - accuracy: 0.9561\n",
            "Test accuracy : 0.914300\n",
            "Epoch 1/1\n",
            "   96/40000 [..............................] - ETA: 1:20 - loss: 9.3379 - accuracy: 0.9688"
          ],
          "name": "stdout"
        },
        {
          "output_type": "stream",
          "text": [
            "/usr/local/lib/python3.6/dist-packages/keras/engine/training.py:297: UserWarning: Discrepancy between trainable weights and collected trainable weights, did you set `model.trainable` without calling `model.compile` after ?\n",
            "  'Discrepancy between trainable weights and collected trainable'\n"
          ],
          "name": "stderr"
        },
        {
          "output_type": "stream",
          "text": [
            "40000/40000 [==============================] - 83s 2ms/step - loss: 8.9354 - accuracy: 0.9853\n",
            "Test accuracy : 0.924700\n",
            "Epoch 1/1\n",
            "40000/40000 [==============================] - 83s 2ms/step - loss: 8.6024 - accuracy: 0.9891\n",
            "Test accuracy : 0.933200\n",
            "Epoch 1/1\n",
            "40000/40000 [==============================] - 83s 2ms/step - loss: 8.3702 - accuracy: 0.9909\n",
            "Test accuracy : 0.935000\n",
            "Epoch 1/1\n",
            "40000/40000 [==============================] - 82s 2ms/step - loss: 8.2660 - accuracy: 0.9919\n",
            "Test accuracy : 0.938200\n",
            "Epoch 1/1\n",
            "40000/40000 [==============================] - 82s 2ms/step - loss: 8.1350 - accuracy: 0.9926\n",
            "Test accuracy : 0.944000\n",
            "Epoch 1/1\n",
            "40000/40000 [==============================] - 82s 2ms/step - loss: 8.0065 - accuracy: 0.9954\n",
            "Test accuracy : 0.947400\n",
            "Epoch 1/1\n",
            "40000/40000 [==============================] - 82s 2ms/step - loss: 7.9264 - accuracy: 0.9951\n",
            "Test accuracy : 0.950100\n",
            "Epoch 1/1\n",
            "40000/40000 [==============================] - 82s 2ms/step - loss: 7.8583 - accuracy: 0.9952\n",
            "Test accuracy : 0.952700\n",
            "Epoch 1/1\n",
            "40000/40000 [==============================] - 82s 2ms/step - loss: 7.7816 - accuracy: 0.9962\n",
            "Test accuracy : 0.950500\n",
            "Epoch 1/1\n",
            "40000/40000 [==============================] - 88s 2ms/step - loss: 14.2039 - accuracy: 0.9443\n",
            "Test accuracy : 0.921000\n",
            "Epoch 1/1\n",
            "   64/40000 [..............................] - ETA: 1:22 - loss: 11.7083 - accuracy: 0.9844"
          ],
          "name": "stdout"
        },
        {
          "output_type": "stream",
          "text": [
            "/usr/local/lib/python3.6/dist-packages/keras/engine/training.py:297: UserWarning: Discrepancy between trainable weights and collected trainable weights, did you set `model.trainable` without calling `model.compile` after ?\n",
            "  'Discrepancy between trainable weights and collected trainable'\n"
          ],
          "name": "stderr"
        },
        {
          "output_type": "stream",
          "text": [
            "40000/40000 [==============================] - 83s 2ms/step - loss: 11.2060 - accuracy: 0.9793\n",
            "Test accuracy : 0.935000\n",
            "Epoch 1/1\n",
            "40000/40000 [==============================] - 83s 2ms/step - loss: 10.7748 - accuracy: 0.9835\n",
            "Test accuracy : 0.941800\n",
            "Epoch 1/1\n",
            "40000/40000 [==============================] - 83s 2ms/step - loss: 10.4558 - accuracy: 0.9861\n",
            "Test accuracy : 0.946400\n",
            "Epoch 1/1\n",
            "40000/40000 [==============================] - 83s 2ms/step - loss: 10.2566 - accuracy: 0.9877\n",
            "Test accuracy : 0.948200\n",
            "Epoch 1/1\n",
            "40000/40000 [==============================] - 83s 2ms/step - loss: 10.1243 - accuracy: 0.9884\n",
            "Test accuracy : 0.950400\n",
            "Epoch 1/1\n",
            "40000/40000 [==============================] - 84s 2ms/step - loss: 9.9865 - accuracy: 0.9909\n",
            "Test accuracy : 0.951800\n",
            "Epoch 1/1\n",
            "40000/40000 [==============================] - 83s 2ms/step - loss: 9.8606 - accuracy: 0.9917\n",
            "Test accuracy : 0.954700\n",
            "Epoch 1/1\n",
            "40000/40000 [==============================] - 83s 2ms/step - loss: 9.7527 - accuracy: 0.9923\n",
            "Test accuracy : 0.957700\n",
            "Epoch 1/1\n",
            "40000/40000 [==============================] - 83s 2ms/step - loss: 9.7004 - accuracy: 0.9930\n",
            "Test accuracy : 0.958800\n",
            "Epoch 1/1\n",
            "40000/40000 [==============================] - 88s 2ms/step - loss: 16.8043 - accuracy: 0.9284\n",
            "Test accuracy : 0.930500\n",
            "Epoch 1/1\n",
            "   64/40000 [..............................] - ETA: 1:20 - loss: 13.3417 - accuracy: 0.9375"
          ],
          "name": "stdout"
        },
        {
          "output_type": "stream",
          "text": [
            "/usr/local/lib/python3.6/dist-packages/keras/engine/training.py:297: UserWarning: Discrepancy between trainable weights and collected trainable weights, did you set `model.trainable` without calling `model.compile` after ?\n",
            "  'Discrepancy between trainable weights and collected trainable'\n"
          ],
          "name": "stderr"
        },
        {
          "output_type": "stream",
          "text": [
            "40000/40000 [==============================] - 83s 2ms/step - loss: 13.4188 - accuracy: 0.9670\n",
            "Test accuracy : 0.938100\n",
            "Epoch 1/1\n",
            "40000/40000 [==============================] - 83s 2ms/step - loss: 12.8550 - accuracy: 0.9745\n",
            "Test accuracy : 0.945800\n",
            "Epoch 1/1\n",
            "40000/40000 [==============================] - 84s 2ms/step - loss: 12.5271 - accuracy: 0.9765\n",
            "Test accuracy : 0.949200\n",
            "Epoch 1/1\n",
            "40000/40000 [==============================] - 83s 2ms/step - loss: 12.2724 - accuracy: 0.9802\n",
            "Test accuracy : 0.952700\n",
            "Epoch 1/1\n",
            "40000/40000 [==============================] - 83s 2ms/step - loss: 12.1051 - accuracy: 0.9819\n",
            "Test accuracy : 0.954800\n",
            "Epoch 1/1\n",
            "40000/40000 [==============================] - 83s 2ms/step - loss: 11.9767 - accuracy: 0.9818\n",
            "Test accuracy : 0.950800\n",
            "Epoch 1/1\n",
            "40000/40000 [==============================] - 83s 2ms/step - loss: 11.8127 - accuracy: 0.9843\n",
            "Test accuracy : 0.955400\n",
            "Epoch 1/1\n",
            "40000/40000 [==============================] - 83s 2ms/step - loss: 11.7469 - accuracy: 0.9841\n",
            "Test accuracy : 0.959500\n",
            "Epoch 1/1\n",
            "40000/40000 [==============================] - 83s 2ms/step - loss: 11.6125 - accuracy: 0.9857\n",
            "Test accuracy : 0.960300\n",
            "Epoch 1/1\n",
            "40000/40000 [==============================] - 90s 2ms/step - loss: 19.1826 - accuracy: 0.9097\n",
            "Test accuracy : 0.920200\n",
            "Epoch 1/1\n",
            "   64/40000 [..............................] - ETA: 1:20 - loss: 16.7607 - accuracy: 0.9531"
          ],
          "name": "stdout"
        },
        {
          "output_type": "stream",
          "text": [
            "/usr/local/lib/python3.6/dist-packages/keras/engine/training.py:297: UserWarning: Discrepancy between trainable weights and collected trainable weights, did you set `model.trainable` without calling `model.compile` after ?\n",
            "  'Discrepancy between trainable weights and collected trainable'\n"
          ],
          "name": "stderr"
        },
        {
          "output_type": "stream",
          "text": [
            "40000/40000 [==============================] - 84s 2ms/step - loss: 15.5656 - accuracy: 0.9524\n",
            "Test accuracy : 0.934300\n",
            "Epoch 1/1\n",
            "40000/40000 [==============================] - 84s 2ms/step - loss: 14.9273 - accuracy: 0.9597\n",
            "Test accuracy : 0.942900\n",
            "Epoch 1/1\n",
            "40000/40000 [==============================] - 85s 2ms/step - loss: 14.5543 - accuracy: 0.9627\n",
            "Test accuracy : 0.947200\n",
            "Epoch 1/1\n",
            "40000/40000 [==============================] - 85s 2ms/step - loss: 14.2611 - accuracy: 0.9650\n",
            "Test accuracy : 0.947600\n",
            "Epoch 1/1\n",
            "40000/40000 [==============================] - 85s 2ms/step - loss: 14.0790 - accuracy: 0.9678\n",
            "Test accuracy : 0.951800\n",
            "Epoch 1/1\n",
            "40000/40000 [==============================] - 85s 2ms/step - loss: 13.8581 - accuracy: 0.9691\n",
            "Test accuracy : 0.949600\n",
            "Epoch 1/1\n",
            "40000/40000 [==============================] - 85s 2ms/step - loss: 13.7603 - accuracy: 0.9714\n",
            "Test accuracy : 0.953500\n",
            "Epoch 1/1\n",
            "40000/40000 [==============================] - 85s 2ms/step - loss: 13.5788 - accuracy: 0.9717\n",
            "Test accuracy : 0.957200\n",
            "Epoch 1/1\n",
            "40000/40000 [==============================] - 85s 2ms/step - loss: 13.5128 - accuracy: 0.9736\n",
            "Test accuracy : 0.956100\n",
            "Epoch 1/1\n",
            "40000/40000 [==============================] - 92s 2ms/step - loss: 21.7809 - accuracy: 0.8811\n",
            "Test accuracy : 0.928000\n",
            "Epoch 1/1\n",
            "   64/40000 [..............................] - ETA: 1:22 - loss: 18.8291 - accuracy: 0.9375"
          ],
          "name": "stdout"
        },
        {
          "output_type": "stream",
          "text": [
            "/usr/local/lib/python3.6/dist-packages/keras/engine/training.py:297: UserWarning: Discrepancy between trainable weights and collected trainable weights, did you set `model.trainable` without calling `model.compile` after ?\n",
            "  'Discrepancy between trainable weights and collected trainable'\n"
          ],
          "name": "stderr"
        },
        {
          "output_type": "stream",
          "text": [
            "40000/40000 [==============================] - 86s 2ms/step - loss: 17.9176 - accuracy: 0.9276\n",
            "Test accuracy : 0.940200\n",
            "Epoch 1/1\n",
            "40000/40000 [==============================] - 86s 2ms/step - loss: 17.1415 - accuracy: 0.9395\n",
            "Test accuracy : 0.941100\n",
            "Epoch 1/1\n",
            "40000/40000 [==============================] - 86s 2ms/step - loss: 16.6959 - accuracy: 0.9436\n",
            "Test accuracy : 0.947500\n",
            "Epoch 1/1\n",
            "40000/40000 [==============================] - 86s 2ms/step - loss: 16.3615 - accuracy: 0.9473\n",
            "Test accuracy : 0.948300\n",
            "Epoch 1/1\n",
            "40000/40000 [==============================] - 85s 2ms/step - loss: 16.1402 - accuracy: 0.9509\n",
            "Test accuracy : 0.955100\n",
            "Epoch 1/1\n",
            "40000/40000 [==============================] - 85s 2ms/step - loss: 15.9270 - accuracy: 0.9520\n",
            "Test accuracy : 0.956500\n",
            "Epoch 1/1\n",
            "40000/40000 [==============================] - 85s 2ms/step - loss: 15.7470 - accuracy: 0.9561\n",
            "Test accuracy : 0.955100\n",
            "Epoch 1/1\n",
            "40000/40000 [==============================] - 85s 2ms/step - loss: 15.6386 - accuracy: 0.9544\n",
            "Test accuracy : 0.956200\n",
            "Epoch 1/1\n",
            "40000/40000 [==============================] - 85s 2ms/step - loss: 15.5404 - accuracy: 0.9585\n",
            "Test accuracy : 0.959100\n",
            "Epoch 1/1\n",
            "40000/40000 [==============================] - 92s 2ms/step - loss: 24.1584 - accuracy: 0.8464\n",
            "Test accuracy : 0.929900\n",
            "Epoch 1/1\n",
            "   64/40000 [..............................] - ETA: 1:23 - loss: 19.1454 - accuracy: 0.9219"
          ],
          "name": "stdout"
        },
        {
          "output_type": "stream",
          "text": [
            "/usr/local/lib/python3.6/dist-packages/keras/engine/training.py:297: UserWarning: Discrepancy between trainable weights and collected trainable weights, did you set `model.trainable` without calling `model.compile` after ?\n",
            "  'Discrepancy between trainable weights and collected trainable'\n"
          ],
          "name": "stderr"
        },
        {
          "output_type": "stream",
          "text": [
            "40000/40000 [==============================] - 87s 2ms/step - loss: 20.0090 - accuracy: 0.9053\n",
            "Test accuracy : 0.937200\n",
            "Epoch 1/1\n",
            "40000/40000 [==============================] - 88s 2ms/step - loss: 19.1748 - accuracy: 0.9179\n",
            "Test accuracy : 0.940100\n",
            "Epoch 1/1\n",
            "40000/40000 [==============================] - 87s 2ms/step - loss: 18.6983 - accuracy: 0.9216\n",
            "Test accuracy : 0.944500\n",
            "Epoch 1/1\n",
            "40000/40000 [==============================] - 89s 2ms/step - loss: 18.3761 - accuracy: 0.9245\n",
            "Test accuracy : 0.948300\n",
            "Epoch 1/1\n",
            "40000/40000 [==============================] - 87s 2ms/step - loss: 18.0791 - accuracy: 0.9289\n",
            "Test accuracy : 0.950100\n",
            "Epoch 1/1\n",
            "40000/40000 [==============================] - 87s 2ms/step - loss: 17.8401 - accuracy: 0.9327\n",
            "Test accuracy : 0.950700\n",
            "Epoch 1/1\n",
            "40000/40000 [==============================] - 87s 2ms/step - loss: 17.7737 - accuracy: 0.9359\n",
            "Test accuracy : 0.949600\n",
            "Epoch 1/1\n",
            "40000/40000 [==============================] - 87s 2ms/step - loss: 17.5696 - accuracy: 0.9356\n",
            "Test accuracy : 0.954300\n",
            "Epoch 1/1\n",
            "40000/40000 [==============================] - 87s 2ms/step - loss: 17.4454 - accuracy: 0.9374\n",
            "Test accuracy : 0.955100\n"
          ],
          "name": "stdout"
        }
      ]
    },
    {
      "cell_type": "code",
      "metadata": {
        "id": "Zsh4Fwdq-dcZ",
        "colab_type": "code",
        "outputId": "1245a704-e793-49ca-cf42-19ddd6b7df84",
        "colab": {
          "base_uri": "https://localhost:8080/",
          "height": 295
        }
      },
      "source": [
        "import matplotlib.pyplot as plt\n",
        "noise_list_plot=np.array(noise_list)\n",
        "plt.plot(noise_list_plot, acc_list_noise)  \n",
        "plt.title(\"Test accuracy vs noise_std\")\n",
        "plt.xlabel(\"norm of gaussian noise\")\n",
        "plt.ylabel(\"test accuracy\")\n",
        "\n",
        "plt.ylim(0.8, 1)\n",
        "plt.xlim(0, 0.5)\n",
        "plt.show() "
      ],
      "execution_count": 0,
      "outputs": [
        {
          "output_type": "display_data",
          "data": {
            "image/png": "[encoded data removed]",
            "text/plain": [
              "<Figure size 432x288 with 1 Axes>"
            ]
          },
          "metadata": {
            "tags": [],
            "needs_background": "light"
          }
        }
      ]
    },
    {
      "cell_type": "code",
      "metadata": {
        "id": "5LJmQZ1AZFC3",
        "colab_type": "code",
        "outputId": "70dbfbe4-b277-47fb-a32a-27a7217f2312",
        "colab": {
          "base_uri": "https://localhost:8080/",
          "height": 165
        }
      },
      "source": [
        "print(acc_list_noise)"
      ],
      "execution_count": 0,
      "outputs": [
        {
          "output_type": "error",
          "ename": "NameError",
          "evalue": "ignored",
          "traceback": [
            "\u001b[0;31m---------------------------------------------------------------------------\u001b[0m",
            "\u001b[0;31mNameError\u001b[0m                                 Traceback (most recent call last)",
            "\u001b[0;32m<ipython-input-1-6c7c226c6f9a>\u001b[0m in \u001b[0;36m<module>\u001b[0;34m()\u001b[0m\n\u001b[0;32m----> 1\u001b[0;31m \u001b[0mprint\u001b[0m\u001b[0;34m(\u001b[0m\u001b[0macc_list_noise\u001b[0m\u001b[0;34m)\u001b[0m\u001b[0;34m\u001b[0m\u001b[0;34m\u001b[0m\u001b[0m\n\u001b[0m",
            "\u001b[0;31mNameError\u001b[0m: name 'acc_list_noise' is not defined"
          ]
        }
      ]
    },
    {
      "cell_type": "code",
      "metadata": {
        "id": "2hC35N4l5W38",
        "colab_type": "code",
        "outputId": "b2b25966-2044-4ab1-93c9-743bb63e2747",
        "colab": {
          "base_uri": "https://localhost:8080/",
          "height": 1000
        }
      },
      "source": [
        "# Find the best ratio of fashion_mnist dataset, try to find out whether the different dataset has the same best ratio\n",
        "from __future__ import print_function\n",
        "\n",
        "from keras.datasets import fashion_mnist\n",
        "import keras\n",
        "import random\n",
        "from sklearn.metrics import accuracy_score\n",
        "import numpy as np\n",
        "\n",
        "from ladder_net import get_ladder_network_fc\n",
        "\n",
        "inp_size = 28*28 # size of fashion_mnist dataset \n",
        "n_classes = 10\n",
        "(x_train, y_train), (x_test, y_test) = fashion_mnist.load_data()\n",
        "\n",
        "x_train = x_train.reshape(60000, inp_size).astype('float32')/255\n",
        "x_test  = x_test.reshape(10000,  inp_size).astype('float32')/255\n",
        "\n",
        "y_train = keras.utils.to_categorical(y_train, n_classes)\n",
        "y_test  = keras.utils.to_categorical(y_test,  n_classes)\n",
        "\n",
        "idxs_label = range(x_train.shape[0])\n",
        "idxs_unlabel = range(x_train.shape[0])\n",
        "size_list=[1,10,50,100,250,500,1000,1500,3000,5000,7500,10000,15000,20000,25000,30000,35000,40000,45000,50000,55000,59500]\n",
        "acc_list=[]\n",
        "labeled_size=500\n",
        "for unlabel_size in size_list:\n",
        "  random.seed(0)\n",
        "  idxs_label = np.random.choice(x_train.shape[0], labeled_size, replace=False)\n",
        "  random.seed(1)\n",
        "  idxs_unlabel = np.random.choice(x_train.shape[0], unlabel_size, replace=False)\n",
        "  x_train_unlabeled = x_train[idxs_unlabel]\n",
        "  y_train_unlabeled = y_train[idxs_unlabel]\n",
        "  x_train_labeled   = x_train[idxs_label]\n",
        "  y_train_labeled   = y_train[idxs_label]\n",
        "  if unlabel_size>=labeled_size:\n",
        "    n_rep = x_train_unlabeled.shape[0] // x_train_labeled.shape[0]\n",
        "    x_train_labeled_rep = np.concatenate([x_train_labeled]*n_rep)\n",
        "    y_train_labeled_rep = np.concatenate([y_train_labeled]*n_rep)\n",
        "  else:\n",
        "    n_rep = x_train_labeled.shape[0] // x_train_unlabeled.shape[0]\n",
        "    x_train_unlabeled_rep = np.concatenate([x_train_unlabeled]*n_rep)\n",
        "    y_train_unlabeled_rep = np.concatenate([y_train_unlabeled]*n_rep)\n",
        "  \n",
        "  model = get_ladder_network_fc(layer_sizes=[inp_size, 1000, 500, 250, 250, 250, n_classes])\n",
        "\n",
        "  # train the model for 10 epochs\n",
        "  for _ in range(10):\n",
        "      if unlabel_size>=labeled_size:\n",
        "        model.fit([x_train_labeled_rep, x_train_unlabeled], y_train_labeled_rep, epochs=1)\n",
        "      else:\n",
        "        model.fit([x_train_labeled, x_train_unlabeled_rep], y_train_labeled, epochs=1)\n",
        "      y_test_pr = model.test_model.predict(x_test, batch_size=100)\n",
        "      acc=accuracy_score(y_test.argmax(-1), y_test_pr.argmax(-1))\n",
        "      print(\"Test accuracy : %f\" % acc)\n",
        "  acc_list.append(acc)"
      ],
      "execution_count": 0,
      "outputs": [
        {
          "output_type": "stream",
          "text": [
            "Downloading data from http://fashion-mnist.s3-website.eu-central-1.amazonaws.com/train-labels-idx1-ubyte.gz\n",
            "32768/29515 [=================================] - 0s 5us/step\n",
            "Downloading data from http://fashion-mnist.s3-website.eu-central-1.amazonaws.com/train-images-idx3-ubyte.gz\n",
            "26427392/26421880 [==============================] - 2s 0us/step\n",
            "Downloading data from http://fashion-mnist.s3-website.eu-central-1.amazonaws.com/t10k-labels-idx1-ubyte.gz\n",
            "8192/5148 [===============================================] - 0s 0us/step\n",
            "Downloading data from http://fashion-mnist.s3-website.eu-central-1.amazonaws.com/t10k-images-idx3-ubyte.gz\n",
            "4423680/4422102 [==============================] - 1s 0us/step\n"
          ],
          "name": "stdout"
        },
        {
          "output_type": "stream",
          "text": [
            "/usr/local/lib/python3.6/dist-packages/keras/engine/training.py:297: UserWarning: Discrepancy between trainable weights and collected trainable weights, did you set `model.trainable` without calling `model.compile` after ?\n",
            "  'Discrepancy between trainable weights and collected trainable'\n"
          ],
          "name": "stderr"
        },
        {
          "output_type": "stream",
          "text": [
            "Epoch 1/1\n",
            "500/500 [==============================] - 12s 24ms/step - loss: 165.5869 - accuracy: 0.4280\n",
            "Test accuracy : 0.542800\n",
            "Epoch 1/1\n",
            " 64/500 [==>...........................] - ETA: 1s - loss: 36.6695 - accuracy: 0.4844"
          ],
          "name": "stdout"
        },
        {
          "output_type": "stream",
          "text": [
            "/usr/local/lib/python3.6/dist-packages/keras/engine/training.py:297: UserWarning: Discrepancy between trainable weights and collected trainable weights, did you set `model.trainable` without calling `model.compile` after ?\n",
            "  'Discrepancy between trainable weights and collected trainable'\n"
          ],
          "name": "stderr"
        },
        {
          "output_type": "stream",
          "text": [
            "500/500 [==============================] - 1s 3ms/step - loss: 26.7833 - accuracy: 0.4760\n",
            "Test accuracy : 0.591200\n",
            "Epoch 1/1\n",
            "500/500 [==============================] - 1s 3ms/step - loss: 20.7109 - accuracy: 0.5020\n",
            "Test accuracy : 0.593000\n",
            "Epoch 1/1\n",
            "500/500 [==============================] - 1s 3ms/step - loss: 15.9613 - accuracy: 0.5320\n",
            "Test accuracy : 0.619900\n",
            "Epoch 1/1\n",
            "500/500 [==============================] - 1s 3ms/step - loss: 11.0497 - accuracy: 0.5600\n",
            "Test accuracy : 0.641500\n",
            "Epoch 1/1\n",
            "500/500 [==============================] - 1s 3ms/step - loss: 7.1200 - accuracy: 0.5740\n",
            "Test accuracy : 0.650600\n",
            "Epoch 1/1\n",
            "500/500 [==============================] - 1s 3ms/step - loss: 4.7716 - accuracy: 0.5460\n",
            "Test accuracy : 0.639300\n",
            "Epoch 1/1\n",
            "500/500 [==============================] - 1s 3ms/step - loss: 3.2520 - accuracy: 0.5720\n",
            "Test accuracy : 0.636000\n",
            "Epoch 1/1\n",
            "500/500 [==============================] - 1s 3ms/step - loss: 2.4700 - accuracy: 0.5320\n",
            "Test accuracy : 0.655700\n",
            "Epoch 1/1\n",
            "500/500 [==============================] - 1s 3ms/step - loss: 1.9611 - accuracy: 0.5740\n",
            "Test accuracy : 0.659400\n",
            "Epoch 1/1\n",
            "500/500 [==============================] - 12s 24ms/step - loss: 92.4653 - accuracy: 0.5100\n",
            "Test accuracy : 0.659500\n",
            "Epoch 1/1\n",
            " 64/500 [==>...........................] - ETA: 1s - loss: 26.3863 - accuracy: 0.6406"
          ],
          "name": "stdout"
        },
        {
          "output_type": "stream",
          "text": [
            "/usr/local/lib/python3.6/dist-packages/keras/engine/training.py:297: UserWarning: Discrepancy between trainable weights and collected trainable weights, did you set `model.trainable` without calling `model.compile` after ?\n",
            "  'Discrepancy between trainable weights and collected trainable'\n"
          ],
          "name": "stderr"
        },
        {
          "output_type": "stream",
          "text": [
            "500/500 [==============================] - 1s 3ms/step - loss: 22.1532 - accuracy: 0.6600\n",
            "Test accuracy : 0.695200\n",
            "Epoch 1/1\n",
            "500/500 [==============================] - 1s 3ms/step - loss: 15.7844 - accuracy: 0.7080\n",
            "Test accuracy : 0.692500\n",
            "Epoch 1/1\n",
            "500/500 [==============================] - 1s 3ms/step - loss: 10.3628 - accuracy: 0.7160\n",
            "Test accuracy : 0.714400\n",
            "Epoch 1/1\n",
            "500/500 [==============================] - 1s 3ms/step - loss: 7.0597 - accuracy: 0.7360\n",
            "Test accuracy : 0.720600\n",
            "Epoch 1/1\n",
            "500/500 [==============================] - 1s 2ms/step - loss: 6.8535 - accuracy: 0.7700\n",
            "Test accuracy : 0.729800\n",
            "Epoch 1/1\n",
            "500/500 [==============================] - 1s 3ms/step - loss: 5.2883 - accuracy: 0.7180\n",
            "Test accuracy : 0.725900\n",
            "Epoch 1/1\n",
            "500/500 [==============================] - 1s 3ms/step - loss: 5.3675 - accuracy: 0.7580\n",
            "Test accuracy : 0.732300\n",
            "Epoch 1/1\n",
            "500/500 [==============================] - 1s 3ms/step - loss: 5.7372 - accuracy: 0.7840\n",
            "Test accuracy : 0.754000\n",
            "Epoch 1/1\n",
            "500/500 [==============================] - 1s 3ms/step - loss: 5.7605 - accuracy: 0.7700\n",
            "Test accuracy : 0.736700\n",
            "Epoch 1/1\n",
            "500/500 [==============================] - 12s 25ms/step - loss: 90.8106 - accuracy: 0.4760\n",
            "Test accuracy : 0.646400\n",
            "Epoch 1/1\n",
            " 64/500 [==>...........................] - ETA: 1s - loss: 35.1873 - accuracy: 0.5000"
          ],
          "name": "stdout"
        },
        {
          "output_type": "stream",
          "text": [
            "/usr/local/lib/python3.6/dist-packages/keras/engine/training.py:297: UserWarning: Discrepancy between trainable weights and collected trainable weights, did you set `model.trainable` without calling `model.compile` after ?\n",
            "  'Discrepancy between trainable weights and collected trainable'\n"
          ],
          "name": "stderr"
        },
        {
          "output_type": "stream",
          "text": [
            "500/500 [==============================] - 1s 3ms/step - loss: 29.8437 - accuracy: 0.6160\n",
            "Test accuracy : 0.661500\n",
            "Epoch 1/1\n",
            "500/500 [==============================] - 1s 3ms/step - loss: 23.8357 - accuracy: 0.6940\n",
            "Test accuracy : 0.674500\n",
            "Epoch 1/1\n",
            "500/500 [==============================] - 1s 3ms/step - loss: 19.6843 - accuracy: 0.7040\n",
            "Test accuracy : 0.686200\n",
            "Epoch 1/1\n",
            "500/500 [==============================] - 1s 3ms/step - loss: 17.2976 - accuracy: 0.7140\n",
            "Test accuracy : 0.680900\n",
            "Epoch 1/1\n",
            "500/500 [==============================] - 1s 3ms/step - loss: 15.1295 - accuracy: 0.7020\n",
            "Test accuracy : 0.695600\n",
            "Epoch 1/1\n",
            "500/500 [==============================] - 1s 3ms/step - loss: 13.3499 - accuracy: 0.7080\n",
            "Test accuracy : 0.692600\n",
            "Epoch 1/1\n",
            "500/500 [==============================] - 1s 3ms/step - loss: 12.1985 - accuracy: 0.7260\n",
            "Test accuracy : 0.700400\n",
            "Epoch 1/1\n",
            "500/500 [==============================] - 1s 3ms/step - loss: 11.0985 - accuracy: 0.7560\n",
            "Test accuracy : 0.708900\n",
            "Epoch 1/1\n",
            "500/500 [==============================] - 1s 3ms/step - loss: 10.9471 - accuracy: 0.7420\n",
            "Test accuracy : 0.713800\n",
            "Epoch 1/1\n",
            "500/500 [==============================] - 12s 25ms/step - loss: 97.4214 - accuracy: 0.5040\n",
            "Test accuracy : 0.640900\n",
            "Epoch 1/1\n",
            " 64/500 [==>...........................] - ETA: 1s - loss: 35.3733 - accuracy: 0.6562"
          ],
          "name": "stdout"
        },
        {
          "output_type": "stream",
          "text": [
            "/usr/local/lib/python3.6/dist-packages/keras/engine/training.py:297: UserWarning: Discrepancy between trainable weights and collected trainable weights, did you set `model.trainable` without calling `model.compile` after ?\n",
            "  'Discrepancy between trainable weights and collected trainable'\n"
          ],
          "name": "stderr"
        },
        {
          "output_type": "stream",
          "text": [
            "500/500 [==============================] - 1s 3ms/step - loss: 32.5128 - accuracy: 0.6660\n",
            "Test accuracy : 0.691400\n",
            "Epoch 1/1\n",
            "500/500 [==============================] - 1s 3ms/step - loss: 26.7611 - accuracy: 0.7160\n",
            "Test accuracy : 0.725100\n",
            "Epoch 1/1\n",
            "500/500 [==============================] - 1s 3ms/step - loss: 22.3195 - accuracy: 0.7180\n",
            "Test accuracy : 0.721500\n",
            "Epoch 1/1\n",
            "500/500 [==============================] - 1s 3ms/step - loss: 19.6936 - accuracy: 0.6980\n",
            "Test accuracy : 0.722600\n",
            "Epoch 1/1\n",
            "500/500 [==============================] - 1s 3ms/step - loss: 18.7207 - accuracy: 0.7740\n",
            "Test accuracy : 0.717200\n",
            "Epoch 1/1\n",
            "500/500 [==============================] - 1s 3ms/step - loss: 17.7652 - accuracy: 0.7460\n",
            "Test accuracy : 0.741400\n",
            "Epoch 1/1\n",
            "500/500 [==============================] - 1s 3ms/step - loss: 16.7399 - accuracy: 0.7700\n",
            "Test accuracy : 0.732200\n",
            "Epoch 1/1\n",
            "500/500 [==============================] - 1s 3ms/step - loss: 15.9396 - accuracy: 0.7860\n",
            "Test accuracy : 0.744200\n",
            "Epoch 1/1\n",
            "500/500 [==============================] - 1s 3ms/step - loss: 14.9898 - accuracy: 0.7940\n",
            "Test accuracy : 0.751100\n",
            "Epoch 1/1\n",
            "500/500 [==============================] - 13s 25ms/step - loss: 95.1790 - accuracy: 0.5580\n",
            "Test accuracy : 0.693100\n",
            "Epoch 1/1\n",
            " 64/500 [==>...........................] - ETA: 1s - loss: 35.1105 - accuracy: 0.6406"
          ],
          "name": "stdout"
        },
        {
          "output_type": "stream",
          "text": [
            "/usr/local/lib/python3.6/dist-packages/keras/engine/training.py:297: UserWarning: Discrepancy between trainable weights and collected trainable weights, did you set `model.trainable` without calling `model.compile` after ?\n",
            "  'Discrepancy between trainable weights and collected trainable'\n"
          ],
          "name": "stderr"
        },
        {
          "output_type": "stream",
          "text": [
            "500/500 [==============================] - 1s 3ms/step - loss: 32.0119 - accuracy: 0.6680\n",
            "Test accuracy : 0.704200\n",
            "Epoch 1/1\n",
            "500/500 [==============================] - 1s 3ms/step - loss: 26.8897 - accuracy: 0.7200\n",
            "Test accuracy : 0.694900\n",
            "Epoch 1/1\n",
            "500/500 [==============================] - 1s 3ms/step - loss: 23.1924 - accuracy: 0.7380\n",
            "Test accuracy : 0.725800\n",
            "Epoch 1/1\n",
            "500/500 [==============================] - 1s 3ms/step - loss: 21.5141 - accuracy: 0.7480\n",
            "Test accuracy : 0.733900\n",
            "Epoch 1/1\n",
            "500/500 [==============================] - 1s 3ms/step - loss: 21.0141 - accuracy: 0.7700\n",
            "Test accuracy : 0.729600\n",
            "Epoch 1/1\n",
            "500/500 [==============================] - 1s 3ms/step - loss: 19.5937 - accuracy: 0.7780\n",
            "Test accuracy : 0.745700\n",
            "Epoch 1/1\n",
            "500/500 [==============================] - 1s 3ms/step - loss: 18.9071 - accuracy: 0.7980\n",
            "Test accuracy : 0.737600\n",
            "Epoch 1/1\n",
            "500/500 [==============================] - 1s 3ms/step - loss: 19.0800 - accuracy: 0.7920\n",
            "Test accuracy : 0.739100\n",
            "Epoch 1/1\n",
            "500/500 [==============================] - 1s 3ms/step - loss: 17.9004 - accuracy: 0.8140\n",
            "Test accuracy : 0.757500\n",
            "Epoch 1/1\n",
            "500/500 [==============================] - 13s 26ms/step - loss: 93.4100 - accuracy: 0.4960\n",
            "Test accuracy : 0.657400\n",
            "Epoch 1/1\n",
            " 64/500 [==>...........................] - ETA: 1s - loss: 35.7868 - accuracy: 0.5781"
          ],
          "name": "stdout"
        },
        {
          "output_type": "stream",
          "text": [
            "/usr/local/lib/python3.6/dist-packages/keras/engine/training.py:297: UserWarning: Discrepancy between trainable weights and collected trainable weights, did you set `model.trainable` without calling `model.compile` after ?\n",
            "  'Discrepancy between trainable weights and collected trainable'\n"
          ],
          "name": "stderr"
        },
        {
          "output_type": "stream",
          "text": [
            "500/500 [==============================] - 1s 3ms/step - loss: 32.8450 - accuracy: 0.6240\n",
            "Test accuracy : 0.690100\n",
            "Epoch 1/1\n",
            "500/500 [==============================] - 1s 3ms/step - loss: 27.2171 - accuracy: 0.6300\n",
            "Test accuracy : 0.698300\n",
            "Epoch 1/1\n",
            "500/500 [==============================] - 1s 3ms/step - loss: 23.7510 - accuracy: 0.6640\n",
            "Test accuracy : 0.707700\n",
            "Epoch 1/1\n",
            "500/500 [==============================] - 1s 3ms/step - loss: 22.2932 - accuracy: 0.6920\n",
            "Test accuracy : 0.708600\n",
            "Epoch 1/1\n",
            "500/500 [==============================] - 1s 3ms/step - loss: 20.9127 - accuracy: 0.7020\n",
            "Test accuracy : 0.733900\n",
            "Epoch 1/1\n",
            "500/500 [==============================] - 1s 3ms/step - loss: 20.8835 - accuracy: 0.7100\n",
            "Test accuracy : 0.719900\n",
            "Epoch 1/1\n",
            "500/500 [==============================] - 1s 3ms/step - loss: 20.3827 - accuracy: 0.7460\n",
            "Test accuracy : 0.740000\n",
            "Epoch 1/1\n",
            "500/500 [==============================] - 1s 3ms/step - loss: 20.2486 - accuracy: 0.7200\n",
            "Test accuracy : 0.741400\n",
            "Epoch 1/1\n",
            "500/500 [==============================] - 1s 3ms/step - loss: 19.5464 - accuracy: 0.7700\n",
            "Test accuracy : 0.752600\n",
            "Epoch 1/1\n",
            "1000/1000 [==============================] - 15s 15ms/step - loss: 61.1603 - accuracy: 0.5860\n",
            "Test accuracy : 0.696400\n",
            "Epoch 1/1\n",
            "  64/1000 [>.............................] - ETA: 2s - loss: 28.6533 - accuracy: 0.6875"
          ],
          "name": "stdout"
        },
        {
          "output_type": "stream",
          "text": [
            "/usr/local/lib/python3.6/dist-packages/keras/engine/training.py:297: UserWarning: Discrepancy between trainable weights and collected trainable weights, did you set `model.trainable` without calling `model.compile` after ?\n",
            "  'Discrepancy between trainable weights and collected trainable'\n"
          ],
          "name": "stderr"
        },
        {
          "output_type": "stream",
          "text": [
            "1000/1000 [==============================] - 3s 3ms/step - loss: 25.1906 - accuracy: 0.6960\n",
            "Test accuracy : 0.718500\n",
            "Epoch 1/1\n",
            "1000/1000 [==============================] - 3s 3ms/step - loss: 21.6980 - accuracy: 0.7220\n",
            "Test accuracy : 0.729400\n",
            "Epoch 1/1\n",
            "1000/1000 [==============================] - 3s 3ms/step - loss: 20.5665 - accuracy: 0.7610\n",
            "Test accuracy : 0.729400\n",
            "Epoch 1/1\n",
            "1000/1000 [==============================] - 3s 3ms/step - loss: 20.0132 - accuracy: 0.7640\n",
            "Test accuracy : 0.747100\n",
            "Epoch 1/1\n",
            "1000/1000 [==============================] - 3s 3ms/step - loss: 19.5088 - accuracy: 0.8020\n",
            "Test accuracy : 0.740500\n",
            "Epoch 1/1\n",
            "1000/1000 [==============================] - 3s 3ms/step - loss: 18.8427 - accuracy: 0.7890\n",
            "Test accuracy : 0.758000\n",
            "Epoch 1/1\n",
            "1000/1000 [==============================] - 3s 3ms/step - loss: 18.7084 - accuracy: 0.8190\n",
            "Test accuracy : 0.768100\n",
            "Epoch 1/1\n",
            "1000/1000 [==============================] - 3s 3ms/step - loss: 18.0314 - accuracy: 0.8220\n",
            "Test accuracy : 0.760600\n",
            "Epoch 1/1\n",
            "1000/1000 [==============================] - 3s 3ms/step - loss: 17.6638 - accuracy: 0.8370\n",
            "Test accuracy : 0.776500\n",
            "Epoch 1/1\n",
            "1500/1500 [==============================] - 16s 11ms/step - loss: 49.6096 - accuracy: 0.6360\n",
            "Test accuracy : 0.704000\n",
            "Epoch 1/1\n",
            "  64/1500 [>.............................] - ETA: 3s - loss: 24.9195 - accuracy: 0.7500"
          ],
          "name": "stdout"
        },
        {
          "output_type": "stream",
          "text": [
            "/usr/local/lib/python3.6/dist-packages/keras/engine/training.py:297: UserWarning: Discrepancy between trainable weights and collected trainable weights, did you set `model.trainable` without calling `model.compile` after ?\n",
            "  'Discrepancy between trainable weights and collected trainable'\n"
          ],
          "name": "stderr"
        },
        {
          "output_type": "stream",
          "text": [
            "1500/1500 [==============================] - 4s 3ms/step - loss: 22.8303 - accuracy: 0.7220\n",
            "Test accuracy : 0.727400\n",
            "Epoch 1/1\n",
            "1500/1500 [==============================] - 4s 3ms/step - loss: 21.0166 - accuracy: 0.7647\n",
            "Test accuracy : 0.733800\n",
            "Epoch 1/1\n",
            "1500/1500 [==============================] - 4s 3ms/step - loss: 20.0312 - accuracy: 0.7880\n",
            "Test accuracy : 0.740900\n",
            "Epoch 1/1\n",
            "1500/1500 [==============================] - 4s 3ms/step - loss: 19.0119 - accuracy: 0.8173\n",
            "Test accuracy : 0.771900\n",
            "Epoch 1/1\n",
            "1500/1500 [==============================] - 4s 3ms/step - loss: 18.4271 - accuracy: 0.8387\n",
            "Test accuracy : 0.754900\n",
            "Epoch 1/1\n",
            "1500/1500 [==============================] - 4s 3ms/step - loss: 17.6580 - accuracy: 0.8460\n",
            "Test accuracy : 0.773400\n",
            "Epoch 1/1\n",
            "1500/1500 [==============================] - 4s 3ms/step - loss: 17.3237 - accuracy: 0.8500\n",
            "Test accuracy : 0.772900\n",
            "Epoch 1/1\n",
            "1500/1500 [==============================] - 4s 3ms/step - loss: 16.8449 - accuracy: 0.8687\n",
            "Test accuracy : 0.774100\n",
            "Epoch 1/1\n",
            "1500/1500 [==============================] - 4s 3ms/step - loss: 16.7249 - accuracy: 0.8733\n",
            "Test accuracy : 0.786800\n",
            "Epoch 1/1\n",
            "3000/3000 [==============================] - 21s 7ms/step - loss: 35.8744 - accuracy: 0.6423\n",
            "Test accuracy : 0.700800\n",
            "Epoch 1/1\n",
            "  64/3000 [..............................] - ETA: 7s - loss: 20.9060 - accuracy: 0.7188"
          ],
          "name": "stdout"
        },
        {
          "output_type": "stream",
          "text": [
            "/usr/local/lib/python3.6/dist-packages/keras/engine/training.py:297: UserWarning: Discrepancy between trainable weights and collected trainable weights, did you set `model.trainable` without calling `model.compile` after ?\n",
            "  'Discrepancy between trainable weights and collected trainable'\n"
          ],
          "name": "stderr"
        },
        {
          "output_type": "stream",
          "text": [
            "3000/3000 [==============================] - 8s 3ms/step - loss: 20.6817 - accuracy: 0.7663\n",
            "Test accuracy : 0.753000\n",
            "Epoch 1/1\n",
            "3000/3000 [==============================] - 8s 3ms/step - loss: 19.3318 - accuracy: 0.8060\n",
            "Test accuracy : 0.757500\n",
            "Epoch 1/1\n",
            "3000/3000 [==============================] - 8s 3ms/step - loss: 18.0164 - accuracy: 0.8287\n",
            "Test accuracy : 0.763800\n",
            "Epoch 1/1\n",
            "3000/3000 [==============================] - 8s 3ms/step - loss: 17.2737 - accuracy: 0.8607\n",
            "Test accuracy : 0.773600\n",
            "Epoch 1/1\n",
            "3000/3000 [==============================] - 8s 3ms/step - loss: 16.7405 - accuracy: 0.8727\n",
            "Test accuracy : 0.773600\n",
            "Epoch 1/1\n",
            "3000/3000 [==============================] - 8s 3ms/step - loss: 16.3810 - accuracy: 0.8873\n",
            "Test accuracy : 0.775300\n",
            "Epoch 1/1\n",
            "3000/3000 [==============================] - 8s 3ms/step - loss: 15.9769 - accuracy: 0.8857\n",
            "Test accuracy : 0.785800\n",
            "Epoch 1/1\n",
            "3000/3000 [==============================] - 8s 3ms/step - loss: 15.5345 - accuracy: 0.9083\n",
            "Test accuracy : 0.776300\n",
            "Epoch 1/1\n",
            "3000/3000 [==============================] - 8s 3ms/step - loss: 15.2274 - accuracy: 0.8977\n",
            "Test accuracy : 0.788500\n",
            "Epoch 1/1\n",
            "5000/5000 [==============================] - 26s 5ms/step - loss: 29.7034 - accuracy: 0.7106\n",
            "Test accuracy : 0.729400\n",
            "Epoch 1/1\n",
            "  64/5000 [..............................] - ETA: 13s - loss: 20.6284 - accuracy: 0.8281"
          ],
          "name": "stdout"
        },
        {
          "output_type": "stream",
          "text": [
            "/usr/local/lib/python3.6/dist-packages/keras/engine/training.py:297: UserWarning: Discrepancy between trainable weights and collected trainable weights, did you set `model.trainable` without calling `model.compile` after ?\n",
            "  'Discrepancy between trainable weights and collected trainable'\n"
          ],
          "name": "stderr"
        },
        {
          "output_type": "stream",
          "text": [
            "5000/5000 [==============================] - 14s 3ms/step - loss: 19.0310 - accuracy: 0.8106\n",
            "Test accuracy : 0.758900\n",
            "Epoch 1/1\n",
            "5000/5000 [==============================] - 14s 3ms/step - loss: 17.4929 - accuracy: 0.8576\n",
            "Test accuracy : 0.758400\n",
            "Epoch 1/1\n",
            "5000/5000 [==============================] - 14s 3ms/step - loss: 16.5486 - accuracy: 0.8858\n",
            "Test accuracy : 0.764200\n",
            "Epoch 1/1\n",
            "5000/5000 [==============================] - 14s 3ms/step - loss: 15.8829 - accuracy: 0.8832\n",
            "Test accuracy : 0.758800\n",
            "Epoch 1/1\n",
            "5000/5000 [==============================] - 14s 3ms/step - loss: 15.5504 - accuracy: 0.9042\n",
            "Test accuracy : 0.755700\n",
            "Epoch 1/1\n",
            "5000/5000 [==============================] - 14s 3ms/step - loss: 15.2658 - accuracy: 0.9122\n",
            "Test accuracy : 0.759500\n",
            "Epoch 1/1\n",
            "5000/5000 [==============================] - 13s 3ms/step - loss: 14.8963 - accuracy: 0.9274\n",
            "Test accuracy : 0.768100\n",
            "Epoch 1/1\n",
            "5000/5000 [==============================] - 13s 3ms/step - loss: 15.0012 - accuracy: 0.9232\n",
            "Test accuracy : 0.756200\n",
            "Epoch 1/1\n",
            "5000/5000 [==============================] - 13s 3ms/step - loss: 14.6788 - accuracy: 0.9318\n",
            "Test accuracy : 0.762000\n",
            "Epoch 1/1\n",
            "7500/7500 [==============================] - 34s 4ms/step - loss: 26.8564 - accuracy: 0.7296\n",
            "Test accuracy : 0.759800\n",
            "Epoch 1/1\n",
            "  32/7500 [..............................] - ETA: 22s - loss: 17.5410 - accuracy: 0.8438"
          ],
          "name": "stdout"
        },
        {
          "output_type": "stream",
          "text": [
            "/usr/local/lib/python3.6/dist-packages/keras/engine/training.py:297: UserWarning: Discrepancy between trainable weights and collected trainable weights, did you set `model.trainable` without calling `model.compile` after ?\n",
            "  'Discrepancy between trainable weights and collected trainable'\n"
          ],
          "name": "stderr"
        },
        {
          "output_type": "stream",
          "text": [
            "7500/7500 [==============================] - 21s 3ms/step - loss: 17.7962 - accuracy: 0.8344\n",
            "Test accuracy : 0.781900\n",
            "Epoch 1/1\n",
            "7500/7500 [==============================] - 20s 3ms/step - loss: 16.4546 - accuracy: 0.8796\n",
            "Test accuracy : 0.780900\n",
            "Epoch 1/1\n",
            "7500/7500 [==============================] - 20s 3ms/step - loss: 15.7857 - accuracy: 0.8891\n",
            "Test accuracy : 0.787400\n",
            "Epoch 1/1\n",
            "7500/7500 [==============================] - 21s 3ms/step - loss: 15.2602 - accuracy: 0.9133\n",
            "Test accuracy : 0.796200\n",
            "Epoch 1/1\n",
            "7500/7500 [==============================] - 20s 3ms/step - loss: 14.8294 - accuracy: 0.9176\n",
            "Test accuracy : 0.783800\n",
            "Epoch 1/1\n",
            "7500/7500 [==============================] - 20s 3ms/step - loss: 14.5899 - accuracy: 0.9220\n",
            "Test accuracy : 0.793400\n",
            "Epoch 1/1\n",
            "7500/7500 [==============================] - 20s 3ms/step - loss: 14.5522 - accuracy: 0.9328\n",
            "Test accuracy : 0.794400\n",
            "Epoch 1/1\n",
            "7500/7500 [==============================] - 20s 3ms/step - loss: 14.2882 - accuracy: 0.9372\n",
            "Test accuracy : 0.794200\n",
            "Epoch 1/1\n",
            "7500/7500 [==============================] - 21s 3ms/step - loss: 14.1699 - accuracy: 0.9497\n",
            "Test accuracy : 0.787300\n",
            "Epoch 1/1\n",
            "10000/10000 [==============================] - 41s 4ms/step - loss: 24.5254 - accuracy: 0.7542\n",
            "Test accuracy : 0.763900\n",
            "Epoch 1/1\n",
            "   32/10000 [..............................] - ETA: 27s - loss: 18.1621 - accuracy: 0.9375"
          ],
          "name": "stdout"
        },
        {
          "output_type": "stream",
          "text": [
            "/usr/local/lib/python3.6/dist-packages/keras/engine/training.py:297: UserWarning: Discrepancy between trainable weights and collected trainable weights, did you set `model.trainable` without calling `model.compile` after ?\n",
            "  'Discrepancy between trainable weights and collected trainable'\n"
          ],
          "name": "stderr"
        },
        {
          "output_type": "stream",
          "text": [
            "10000/10000 [==============================] - 28s 3ms/step - loss: 16.9628 - accuracy: 0.8669\n",
            "Test accuracy : 0.773800\n",
            "Epoch 1/1\n",
            "10000/10000 [==============================] - 28s 3ms/step - loss: 15.8603 - accuracy: 0.8977\n",
            "Test accuracy : 0.776800\n",
            "Epoch 1/1\n",
            "10000/10000 [==============================] - 28s 3ms/step - loss: 15.1157 - accuracy: 0.9187\n",
            "Test accuracy : 0.775700\n",
            "Epoch 1/1\n",
            "10000/10000 [==============================] - 28s 3ms/step - loss: 14.9651 - accuracy: 0.9276\n",
            "Test accuracy : 0.777800\n",
            "Epoch 1/1\n",
            "10000/10000 [==============================] - 27s 3ms/step - loss: 14.4878 - accuracy: 0.9327\n",
            "Test accuracy : 0.785200\n",
            "Epoch 1/1\n",
            "10000/10000 [==============================] - 28s 3ms/step - loss: 14.2926 - accuracy: 0.9453\n",
            "Test accuracy : 0.781600\n",
            "Epoch 1/1\n",
            "10000/10000 [==============================] - 28s 3ms/step - loss: 14.2031 - accuracy: 0.9475\n",
            "Test accuracy : 0.786200\n",
            "Epoch 1/1\n",
            "10000/10000 [==============================] - 28s 3ms/step - loss: 14.0613 - accuracy: 0.9523\n",
            "Test accuracy : 0.786900\n",
            "Epoch 1/1\n",
            "10000/10000 [==============================] - 28s 3ms/step - loss: 13.9682 - accuracy: 0.9512\n",
            "Test accuracy : 0.795300\n",
            "Epoch 1/1\n",
            "15000/15000 [==============================] - 56s 4ms/step - loss: 22.2304 - accuracy: 0.7872\n",
            "Test accuracy : 0.761900\n",
            "Epoch 1/1\n",
            "   32/15000 [..............................] - ETA: 41s - loss: 14.9892 - accuracy: 0.9375"
          ],
          "name": "stdout"
        },
        {
          "output_type": "stream",
          "text": [
            "/usr/local/lib/python3.6/dist-packages/keras/engine/training.py:297: UserWarning: Discrepancy between trainable weights and collected trainable weights, did you set `model.trainable` without calling `model.compile` after ?\n",
            "  'Discrepancy between trainable weights and collected trainable'\n"
          ],
          "name": "stderr"
        },
        {
          "output_type": "stream",
          "text": [
            "15000/15000 [==============================] - 42s 3ms/step - loss: 16.0123 - accuracy: 0.8993\n",
            "Test accuracy : 0.764500\n",
            "Epoch 1/1\n",
            "15000/15000 [==============================] - 43s 3ms/step - loss: 15.0970 - accuracy: 0.9258\n",
            "Test accuracy : 0.773800\n",
            "Epoch 1/1\n",
            "15000/15000 [==============================] - 43s 3ms/step - loss: 14.6885 - accuracy: 0.9356\n",
            "Test accuracy : 0.782300\n",
            "Epoch 1/1\n",
            "15000/15000 [==============================] - 42s 3ms/step - loss: 14.3598 - accuracy: 0.9467\n",
            "Test accuracy : 0.786400\n",
            "Epoch 1/1\n",
            "15000/15000 [==============================] - 43s 3ms/step - loss: 14.1104 - accuracy: 0.9543\n",
            "Test accuracy : 0.781500\n",
            "Epoch 1/1\n",
            "15000/15000 [==============================] - 42s 3ms/step - loss: 13.8905 - accuracy: 0.9561\n",
            "Test accuracy : 0.778100\n",
            "Epoch 1/1\n",
            "15000/15000 [==============================] - 42s 3ms/step - loss: 13.7590 - accuracy: 0.9590\n",
            "Test accuracy : 0.772200\n",
            "Epoch 1/1\n",
            "15000/15000 [==============================] - 42s 3ms/step - loss: 13.5526 - accuracy: 0.9623\n",
            "Test accuracy : 0.792300\n",
            "Epoch 1/1\n",
            "15000/15000 [==============================] - 42s 3ms/step - loss: 13.5056 - accuracy: 0.9623\n",
            "Test accuracy : 0.781400\n",
            "Epoch 1/1\n",
            "20000/20000 [==============================] - 71s 4ms/step - loss: 20.8141 - accuracy: 0.8298\n",
            "Test accuracy : 0.786500\n",
            "Epoch 1/1\n",
            "   64/20000 [..............................] - ETA: 54s - loss: 15.6638 - accuracy: 0.9219"
          ],
          "name": "stdout"
        },
        {
          "output_type": "stream",
          "text": [
            "/usr/local/lib/python3.6/dist-packages/keras/engine/training.py:297: UserWarning: Discrepancy between trainable weights and collected trainable weights, did you set `model.trainable` without calling `model.compile` after ?\n",
            "  'Discrepancy between trainable weights and collected trainable'\n"
          ],
          "name": "stderr"
        },
        {
          "output_type": "stream",
          "text": [
            "20000/20000 [==============================] - 56s 3ms/step - loss: 15.5114 - accuracy: 0.9186\n",
            "Test accuracy : 0.782100\n",
            "Epoch 1/1\n",
            "20000/20000 [==============================] - 57s 3ms/step - loss: 14.7318 - accuracy: 0.9399\n",
            "Test accuracy : 0.786400\n",
            "Epoch 1/1\n",
            "20000/20000 [==============================] - 56s 3ms/step - loss: 14.3267 - accuracy: 0.9464\n",
            "Test accuracy : 0.788200\n",
            "Epoch 1/1\n",
            "20000/20000 [==============================] - 56s 3ms/step - loss: 14.0700 - accuracy: 0.9521\n",
            "Test accuracy : 0.786500\n",
            "Epoch 1/1\n",
            "20000/20000 [==============================] - 56s 3ms/step - loss: 13.9150 - accuracy: 0.9547\n",
            "Test accuracy : 0.784700\n",
            "Epoch 1/1\n",
            "20000/20000 [==============================] - 57s 3ms/step - loss: 13.6743 - accuracy: 0.9612\n",
            "Test accuracy : 0.795100\n",
            "Epoch 1/1\n",
            "20000/20000 [==============================] - 56s 3ms/step - loss: 13.5224 - accuracy: 0.9625\n",
            "Test accuracy : 0.794800\n",
            "Epoch 1/1\n",
            "20000/20000 [==============================] - 57s 3ms/step - loss: 13.4034 - accuracy: 0.9649\n",
            "Test accuracy : 0.795200\n",
            "Epoch 1/1\n",
            "20000/20000 [==============================] - 56s 3ms/step - loss: 13.3032 - accuracy: 0.9638\n",
            "Test accuracy : 0.795200\n",
            "Epoch 1/1\n",
            "25000/25000 [==============================] - 84s 3ms/step - loss: 20.0905 - accuracy: 0.8245\n",
            "Test accuracy : 0.768700\n",
            "Epoch 1/1\n",
            "   64/25000 [..............................] - ETA: 1:07 - loss: 15.7389 - accuracy: 0.9062"
          ],
          "name": "stdout"
        },
        {
          "output_type": "stream",
          "text": [
            "/usr/local/lib/python3.6/dist-packages/keras/engine/training.py:297: UserWarning: Discrepancy between trainable weights and collected trainable weights, did you set `model.trainable` without calling `model.compile` after ?\n",
            "  'Discrepancy between trainable weights and collected trainable'\n"
          ],
          "name": "stderr"
        },
        {
          "output_type": "stream",
          "text": [
            "25000/25000 [==============================] - 70s 3ms/step - loss: 15.3050 - accuracy: 0.9188\n",
            "Test accuracy : 0.776500\n",
            "Epoch 1/1\n",
            "25000/25000 [==============================] - 70s 3ms/step - loss: 14.5501 - accuracy: 0.9352\n",
            "Test accuracy : 0.786300\n",
            "Epoch 1/1\n",
            "25000/25000 [==============================] - 70s 3ms/step - loss: 14.1927 - accuracy: 0.9492\n",
            "Test accuracy : 0.785800\n",
            "Epoch 1/1\n",
            "25000/25000 [==============================] - 70s 3ms/step - loss: 13.9200 - accuracy: 0.9549\n",
            "Test accuracy : 0.790600\n",
            "Epoch 1/1\n",
            "25000/25000 [==============================] - 70s 3ms/step - loss: 13.6390 - accuracy: 0.9562\n",
            "Test accuracy : 0.795600\n",
            "Epoch 1/1\n",
            "25000/25000 [==============================] - 70s 3ms/step - loss: 13.4098 - accuracy: 0.9621\n",
            "Test accuracy : 0.794600\n",
            "Epoch 1/1\n",
            "25000/25000 [==============================] - 69s 3ms/step - loss: 13.4096 - accuracy: 0.9626\n",
            "Test accuracy : 0.790800\n",
            "Epoch 1/1\n",
            "25000/25000 [==============================] - 70s 3ms/step - loss: 13.2827 - accuracy: 0.9653\n",
            "Test accuracy : 0.793700\n",
            "Epoch 1/1\n",
            "25000/25000 [==============================] - 70s 3ms/step - loss: 13.1960 - accuracy: 0.9678\n",
            "Test accuracy : 0.796400\n",
            "Epoch 1/1\n",
            "30000/30000 [==============================] - 99s 3ms/step - loss: 19.1303 - accuracy: 0.8354\n",
            "Test accuracy : 0.769600\n",
            "Epoch 1/1\n",
            "   64/30000 [..............................] - ETA: 1:16 - loss: 17.2151 - accuracy: 0.9375"
          ],
          "name": "stdout"
        },
        {
          "output_type": "stream",
          "text": [
            "/usr/local/lib/python3.6/dist-packages/keras/engine/training.py:297: UserWarning: Discrepancy between trainable weights and collected trainable weights, did you set `model.trainable` without calling `model.compile` after ?\n",
            "  'Discrepancy between trainable weights and collected trainable'\n"
          ],
          "name": "stderr"
        },
        {
          "output_type": "stream",
          "text": [
            "30000/30000 [==============================] - 85s 3ms/step - loss: 14.9583 - accuracy: 0.9271\n",
            "Test accuracy : 0.779500\n",
            "Epoch 1/1\n",
            "30000/30000 [==============================] - 85s 3ms/step - loss: 14.2757 - accuracy: 0.9448\n",
            "Test accuracy : 0.775300\n",
            "Epoch 1/1\n",
            "30000/30000 [==============================] - 84s 3ms/step - loss: 13.9623 - accuracy: 0.9528\n",
            "Test accuracy : 0.784700\n",
            "Epoch 1/1\n",
            "30000/30000 [==============================] - 85s 3ms/step - loss: 13.7011 - accuracy: 0.9560\n",
            "Test accuracy : 0.778100\n",
            "Epoch 1/1\n",
            "30000/30000 [==============================] - 85s 3ms/step - loss: 13.4625 - accuracy: 0.9621\n",
            "Test accuracy : 0.793800\n",
            "Epoch 1/1\n",
            "30000/30000 [==============================] - 85s 3ms/step - loss: 13.3318 - accuracy: 0.9642\n",
            "Test accuracy : 0.793600\n",
            "Epoch 1/1\n",
            "30000/30000 [==============================] - 85s 3ms/step - loss: 13.2093 - accuracy: 0.9676\n",
            "Test accuracy : 0.796900\n",
            "Epoch 1/1\n",
            "30000/30000 [==============================] - 85s 3ms/step - loss: 13.0604 - accuracy: 0.9677\n",
            "Test accuracy : 0.792900\n",
            "Epoch 1/1\n",
            "30000/30000 [==============================] - 85s 3ms/step - loss: 13.0111 - accuracy: 0.9717\n",
            "Test accuracy : 0.794800\n",
            "Epoch 1/1\n",
            "35000/35000 [==============================] - 114s 3ms/step - loss: 18.5842 - accuracy: 0.8608\n",
            "Test accuracy : 0.771300\n",
            "Epoch 1/1\n",
            "   64/35000 [..............................] - ETA: 1:31 - loss: 14.4566 - accuracy: 0.9375"
          ],
          "name": "stdout"
        },
        {
          "output_type": "stream",
          "text": [
            "/usr/local/lib/python3.6/dist-packages/keras/engine/training.py:297: UserWarning: Discrepancy between trainable weights and collected trainable weights, did you set `model.trainable` without calling `model.compile` after ?\n",
            "  'Discrepancy between trainable weights and collected trainable'\n"
          ],
          "name": "stderr"
        },
        {
          "output_type": "stream",
          "text": [
            "35000/35000 [==============================] - 99s 3ms/step - loss: 14.6919 - accuracy: 0.9374\n",
            "Test accuracy : 0.762500\n",
            "Epoch 1/1\n",
            "35000/35000 [==============================] - 100s 3ms/step - loss: 14.0799 - accuracy: 0.9519\n",
            "Test accuracy : 0.774900\n",
            "Epoch 1/1\n",
            "35000/35000 [==============================] - 99s 3ms/step - loss: 13.7538 - accuracy: 0.9580\n",
            "Test accuracy : 0.783400\n",
            "Epoch 1/1\n",
            "35000/35000 [==============================] - 101s 3ms/step - loss: 13.4547 - accuracy: 0.9631\n",
            "Test accuracy : 0.771000\n",
            "Epoch 1/1\n",
            "35000/35000 [==============================] - 101s 3ms/step - loss: 13.2639 - accuracy: 0.9665\n",
            "Test accuracy : 0.792000\n",
            "Epoch 1/1\n",
            "35000/35000 [==============================] - 102s 3ms/step - loss: 13.0850 - accuracy: 0.9704\n",
            "Test accuracy : 0.791000\n",
            "Epoch 1/1\n",
            "35000/35000 [==============================] - 101s 3ms/step - loss: 13.0109 - accuracy: 0.9706\n",
            "Test accuracy : 0.791400\n",
            "Epoch 1/1\n",
            "35000/35000 [==============================] - 99s 3ms/step - loss: 12.9000 - accuracy: 0.9738\n",
            "Test accuracy : 0.793000\n",
            "Epoch 1/1\n",
            "35000/35000 [==============================] - 99s 3ms/step - loss: 12.7697 - accuracy: 0.9748\n",
            "Test accuracy : 0.791000\n",
            "Epoch 1/1\n",
            "40000/40000 [==============================] - 129s 3ms/step - loss: 18.1867 - accuracy: 0.8704\n",
            "Test accuracy : 0.764000\n",
            "Epoch 1/1\n",
            "   32/40000 [..............................] - ETA: 1:50 - loss: 14.1124 - accuracy: 0.9375"
          ],
          "name": "stdout"
        },
        {
          "output_type": "stream",
          "text": [
            "/usr/local/lib/python3.6/dist-packages/keras/engine/training.py:297: UserWarning: Discrepancy between trainable weights and collected trainable weights, did you set `model.trainable` without calling `model.compile` after ?\n",
            "  'Discrepancy between trainable weights and collected trainable'\n"
          ],
          "name": "stderr"
        },
        {
          "output_type": "stream",
          "text": [
            "40000/40000 [==============================] - 115s 3ms/step - loss: 14.5251 - accuracy: 0.9426\n",
            "Test accuracy : 0.782700\n",
            "Epoch 1/1\n",
            "40000/40000 [==============================] - 114s 3ms/step - loss: 14.0149 - accuracy: 0.9519\n",
            "Test accuracy : 0.789700\n",
            "Epoch 1/1\n",
            "40000/40000 [==============================] - 115s 3ms/step - loss: 13.5939 - accuracy: 0.9622\n",
            "Test accuracy : 0.789300\n",
            "Epoch 1/1\n",
            "40000/40000 [==============================] - 115s 3ms/step - loss: 13.3508 - accuracy: 0.9669\n",
            "Test accuracy : 0.789400\n",
            "Epoch 1/1\n",
            "40000/40000 [==============================] - 115s 3ms/step - loss: 13.1593 - accuracy: 0.9689\n",
            "Test accuracy : 0.791200\n",
            "Epoch 1/1\n",
            "40000/40000 [==============================] - 114s 3ms/step - loss: 13.0795 - accuracy: 0.9716\n",
            "Test accuracy : 0.796200\n",
            "Epoch 1/1\n",
            "40000/40000 [==============================] - 115s 3ms/step - loss: 12.8821 - accuracy: 0.9740\n",
            "Test accuracy : 0.790600\n",
            "Epoch 1/1\n",
            "40000/40000 [==============================] - 114s 3ms/step - loss: 12.8236 - accuracy: 0.9778\n",
            "Test accuracy : 0.789300\n",
            "Epoch 1/1\n",
            "40000/40000 [==============================] - 114s 3ms/step - loss: 12.7238 - accuracy: 0.9772\n",
            "Test accuracy : 0.791900\n",
            "Epoch 1/1\n",
            "45000/45000 [==============================] - 144s 3ms/step - loss: 17.8627 - accuracy: 0.8767\n",
            "Test accuracy : 0.771800\n",
            "Epoch 1/1\n",
            "   64/45000 [..............................] - ETA: 1:54 - loss: 14.9064 - accuracy: 0.9219"
          ],
          "name": "stdout"
        },
        {
          "output_type": "stream",
          "text": [
            "/usr/local/lib/python3.6/dist-packages/keras/engine/training.py:297: UserWarning: Discrepancy between trainable weights and collected trainable weights, did you set `model.trainable` without calling `model.compile` after ?\n",
            "  'Discrepancy between trainable weights and collected trainable'\n"
          ],
          "name": "stderr"
        },
        {
          "output_type": "stream",
          "text": [
            "45000/45000 [==============================] - 129s 3ms/step - loss: 14.4698 - accuracy: 0.9434\n",
            "Test accuracy : 0.774400\n",
            "Epoch 1/1\n",
            "45000/45000 [==============================] - 130s 3ms/step - loss: 13.8634 - accuracy: 0.9561\n",
            "Test accuracy : 0.785300\n",
            "Epoch 1/1\n",
            "45000/45000 [==============================] - 130s 3ms/step - loss: 13.5289 - accuracy: 0.9615\n",
            "Test accuracy : 0.787200\n",
            "Epoch 1/1\n",
            "45000/45000 [==============================] - 130s 3ms/step - loss: 13.2918 - accuracy: 0.9667\n",
            "Test accuracy : 0.791100\n",
            "Epoch 1/1\n",
            "45000/45000 [==============================] - 130s 3ms/step - loss: 13.0978 - accuracy: 0.9708\n",
            "Test accuracy : 0.788600\n",
            "Epoch 1/1\n",
            "45000/45000 [==============================] - 130s 3ms/step - loss: 12.9824 - accuracy: 0.9736\n",
            "Test accuracy : 0.797300\n",
            "Epoch 1/1\n",
            "45000/45000 [==============================] - 130s 3ms/step - loss: 12.8577 - accuracy: 0.9743\n",
            "Test accuracy : 0.797100\n",
            "Epoch 1/1\n",
            "45000/45000 [==============================] - 130s 3ms/step - loss: 12.7459 - accuracy: 0.9766\n",
            "Test accuracy : 0.796400\n",
            "Epoch 1/1\n",
            "45000/45000 [==============================] - 130s 3ms/step - loss: 12.6563 - accuracy: 0.9780\n",
            "Test accuracy : 0.797800\n",
            "Epoch 1/1\n",
            "50000/50000 [==============================] - 160s 3ms/step - loss: 17.6131 - accuracy: 0.8669\n",
            "Test accuracy : 0.773900\n",
            "Epoch 1/1\n",
            "   32/50000 [..............................] - ETA: 2:14 - loss: 14.5704 - accuracy: 0.9688"
          ],
          "name": "stdout"
        },
        {
          "output_type": "stream",
          "text": [
            "/usr/local/lib/python3.6/dist-packages/keras/engine/training.py:297: UserWarning: Discrepancy between trainable weights and collected trainable weights, did you set `model.trainable` without calling `model.compile` after ?\n",
            "  'Discrepancy between trainable weights and collected trainable'\n"
          ],
          "name": "stderr"
        },
        {
          "output_type": "stream",
          "text": [
            "50000/50000 [==============================] - 150s 3ms/step - loss: 14.3301 - accuracy: 0.9435\n",
            "Test accuracy : 0.781000\n",
            "Epoch 1/1\n",
            "50000/50000 [==============================] - 150s 3ms/step - loss: 13.7657 - accuracy: 0.9541\n",
            "Test accuracy : 0.789000\n",
            "Epoch 1/1\n",
            "50000/50000 [==============================] - 147s 3ms/step - loss: 13.4580 - accuracy: 0.9603\n",
            "Test accuracy : 0.797300\n",
            "Epoch 1/1\n",
            "50000/50000 [==============================] - 146s 3ms/step - loss: 13.2084 - accuracy: 0.9662\n",
            "Test accuracy : 0.802200\n",
            "Epoch 1/1\n",
            "50000/50000 [==============================] - 146s 3ms/step - loss: 13.0197 - accuracy: 0.9690\n",
            "Test accuracy : 0.799900\n",
            "Epoch 1/1\n",
            "50000/50000 [==============================] - 146s 3ms/step - loss: 12.9191 - accuracy: 0.9725\n",
            "Test accuracy : 0.796600\n",
            "Epoch 1/1\n",
            "50000/50000 [==============================] - 146s 3ms/step - loss: 12.8298 - accuracy: 0.9743\n",
            "Test accuracy : 0.801700\n",
            "Epoch 1/1\n",
            "50000/50000 [==============================] - 146s 3ms/step - loss: 12.6885 - accuracy: 0.9774\n",
            "Test accuracy : 0.797400\n",
            "Epoch 1/1\n",
            "50000/50000 [==============================] - 147s 3ms/step - loss: 12.6439 - accuracy: 0.9768\n",
            "Test accuracy : 0.801500\n",
            "Epoch 1/1\n",
            "55000/55000 [==============================] - 177s 3ms/step - loss: 17.3323 - accuracy: 0.8826\n",
            "Test accuracy : 0.787500\n",
            "Epoch 1/1\n",
            "   64/55000 [..............................] - ETA: 2:28 - loss: 14.3590 - accuracy: 0.9062"
          ],
          "name": "stdout"
        },
        {
          "output_type": "stream",
          "text": [
            "/usr/local/lib/python3.6/dist-packages/keras/engine/training.py:297: UserWarning: Discrepancy between trainable weights and collected trainable weights, did you set `model.trainable` without calling `model.compile` after ?\n",
            "  'Discrepancy between trainable weights and collected trainable'\n"
          ],
          "name": "stderr"
        },
        {
          "output_type": "stream",
          "text": [
            "55000/55000 [==============================] - 160s 3ms/step - loss: 14.2246 - accuracy: 0.9502\n",
            "Test accuracy : 0.793000\n",
            "Epoch 1/1\n",
            "55000/55000 [==============================] - 161s 3ms/step - loss: 13.6859 - accuracy: 0.9610\n",
            "Test accuracy : 0.799900\n",
            "Epoch 1/1\n",
            "55000/55000 [==============================] - 161s 3ms/step - loss: 13.3022 - accuracy: 0.9670\n",
            "Test accuracy : 0.802400\n",
            "Epoch 1/1\n",
            "55000/55000 [==============================] - 162s 3ms/step - loss: 13.1389 - accuracy: 0.9727\n",
            "Test accuracy : 0.807700\n",
            "Epoch 1/1\n",
            "55000/55000 [==============================] - 161s 3ms/step - loss: 12.9435 - accuracy: 0.9751\n",
            "Test accuracy : 0.810300\n",
            "Epoch 1/1\n",
            "55000/55000 [==============================] - 162s 3ms/step - loss: 12.8238 - accuracy: 0.9770\n",
            "Test accuracy : 0.809200\n",
            "Epoch 1/1\n",
            "55000/55000 [==============================] - 161s 3ms/step - loss: 12.7418 - accuracy: 0.9793\n",
            "Test accuracy : 0.814300\n",
            "Epoch 1/1\n",
            "55000/55000 [==============================] - 162s 3ms/step - loss: 12.6332 - accuracy: 0.9808\n",
            "Test accuracy : 0.809900\n",
            "Epoch 1/1\n",
            "55000/55000 [==============================] - 162s 3ms/step - loss: 12.5017 - accuracy: 0.9817\n",
            "Test accuracy : 0.804000\n",
            "Epoch 1/1\n",
            "59500/59500 [==============================] - 192s 3ms/step - loss: 17.0637 - accuracy: 0.8876\n",
            "Test accuracy : 0.775800\n",
            "Epoch 1/1\n",
            "   32/59500 [..............................] - ETA: 2:48 - loss: 15.3160 - accuracy: 0.9062"
          ],
          "name": "stdout"
        },
        {
          "output_type": "stream",
          "text": [
            "/usr/local/lib/python3.6/dist-packages/keras/engine/training.py:297: UserWarning: Discrepancy between trainable weights and collected trainable weights, did you set `model.trainable` without calling `model.compile` after ?\n",
            "  'Discrepancy between trainable weights and collected trainable'\n"
          ],
          "name": "stderr"
        },
        {
          "output_type": "stream",
          "text": [
            "59500/59500 [==============================] - 178s 3ms/step - loss: 14.1212 - accuracy: 0.9498\n",
            "Test accuracy : 0.791800\n",
            "Epoch 1/1\n",
            "59500/59500 [==============================] - 183s 3ms/step - loss: 13.6273 - accuracy: 0.9611\n",
            "Test accuracy : 0.788600\n",
            "Epoch 1/1\n",
            "59500/59500 [==============================] - 179s 3ms/step - loss: 13.2842 - accuracy: 0.9667\n",
            "Test accuracy : 0.786100\n",
            "Epoch 1/1\n",
            "59500/59500 [==============================] - 177s 3ms/step - loss: 13.0564 - accuracy: 0.9705\n",
            "Test accuracy : 0.796000\n",
            "Epoch 1/1\n",
            "59500/59500 [==============================] - 177s 3ms/step - loss: 12.8713 - accuracy: 0.9746\n",
            "Test accuracy : 0.785000\n",
            "Epoch 1/1\n",
            "59500/59500 [==============================] - 177s 3ms/step - loss: 12.7427 - accuracy: 0.9776\n",
            "Test accuracy : 0.778600\n",
            "Epoch 1/1\n",
            "59500/59500 [==============================] - 176s 3ms/step - loss: 12.6282 - accuracy: 0.9785\n",
            "Test accuracy : 0.786400\n",
            "Epoch 1/1\n",
            "59500/59500 [==============================] - 176s 3ms/step - loss: 12.5753 - accuracy: 0.9814\n",
            "Test accuracy : 0.796300\n",
            "Epoch 1/1\n",
            "59500/59500 [==============================] - 177s 3ms/step - loss: 12.4700 - accuracy: 0.9817\n",
            "Test accuracy : 0.795200\n"
          ],
          "name": "stdout"
        }
      ]
    },
    {
      "cell_type": "code",
      "metadata": {
        "id": "nEaQ_VBeDPIh",
        "colab_type": "code",
        "outputId": "7f3813a3-8439-4792-9301-a4f1cc6c48b9",
        "colab": {
          "base_uri": "https://localhost:8080/",
          "height": 312
        }
      },
      "source": [
        "import matplotlib.pyplot as plt\n",
        "size_list_plot=np.array(size_list)\n",
        "plt.plot(size_list_plot/500, acc_list)  \n",
        "plt.title(\"Test accuracy vs the ratio of unlabeled data and labeled data\")\n",
        "plt.xlabel(\"number of unlabeled data as multiple of labeled data\")\n",
        "plt.ylabel(\"test accuracy\")\n",
        "\n",
        "plt.ylim(0.6, 0.85)\n",
        "plt.show() \n",
        "print(acc_list)"
      ],
      "execution_count": 0,
      "outputs": [
        {
          "output_type": "display_data",
          "data": {
            "image/png": "[encoded data removed]",
            "text/plain": [
              "<Figure size 432x288 with 1 Axes>"
            ]
          },
          "metadata": {
            "tags": [],
            "needs_background": "light"
          }
        },
        {
          "output_type": "stream",
          "text": [
            "[0.6594, 0.7367, 0.7138, 0.7511, 0.7575, 0.7526, 0.7765, 0.7868, 0.7885, 0.762, 0.7873, 0.7953, 0.7814, 0.7952, 0.7964, 0.7948, 0.791, 0.7919, 0.7978, 0.8015, 0.804, 0.7952]\n"
          ],
          "name": "stdout"
        }
      ]
    }
  ]
}