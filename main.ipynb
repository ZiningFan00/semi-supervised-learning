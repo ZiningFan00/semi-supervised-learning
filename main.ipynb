{
  "nbformat": 4,
  "nbformat_minor": 0,
  "metadata": {
    "colab": {
      "name": "main.ipynb",
      "provenance": [],
      "collapsed_sections": []
    },
    "kernelspec": {
      "name": "python3",
      "display_name": "Python 3"
    },
    "accelerator": "GPU"
  },
  "cells": [
    {
      "cell_type": "code",
      "metadata": {
        "id": "c1hzMP-LN-U9",
        "colab_type": "code",
        "outputId": "9c92a63c-3be8-467b-be0f-e95ef16479f8",
        "colab": {
          "base_uri": "https://localhost:8080/",
          "height": 121
        }
      },
      "source": [
        "from google.colab import drive\n",
        "drive.mount('/content/drive')"
      ],
      "execution_count": 1,
      "outputs": [
        {
          "output_type": "stream",
          "text": [
            "Go to this URL in a browser: https://accounts.google.com/o/oauth2/auth?client_id=947318989803-6bn6qk8qdgf4n4g3pfee6491hc0brc4i.apps.googleusercontent.com&redirect_uri=urn%3aietf%3awg%3aoauth%3a2.0%3aoob&response_type=code&scope=email%20https%3a%2f%2fwww.googleapis.com%2fauth%2fdocs.test%20https%3a%2f%2fwww.googleapis.com%2fauth%2fdrive%20https%3a%2f%2fwww.googleapis.com%2fauth%2fdrive.photos.readonly%20https%3a%2f%2fwww.googleapis.com%2fauth%2fpeopleapi.readonly\n",
            "\n",
            "Enter your authorization code:\n",
            "··········\n",
            "Mounted at /content/drive\n"
          ],
          "name": "stdout"
        }
      ]
    },
    {
      "cell_type": "code",
      "metadata": {
        "id": "9nSca7voBDvn",
        "colab_type": "code",
        "outputId": "67eca4f8-70a4-4c12-853f-cbac6b671073",
        "colab": {
          "base_uri": "https://localhost:8080/",
          "height": 34
        }
      },
      "source": [
        "import os\n",
        "os.chdir('/content/drive/My Drive/final_code/noisystudent-master') # root dictionary, the parent folder root of train and test folder\n",
        "os.getcwd()"
      ],
      "execution_count": 2,
      "outputs": [
        {
          "output_type": "execute_result",
          "data": {
            "text/plain": [
              "'/content/drive/My Drive/final_code/noisystudent-master'"
            ]
          },
          "metadata": {
            "tags": []
          },
          "execution_count": 2
        }
      ]
    },
    {
      "cell_type": "code",
      "metadata": {
        "id": "Iu5BdPb99FrZ",
        "colab_type": "code",
        "outputId": "407c06ef-ff99-41b1-8907-9970d322d4ef",
        "colab": {
          "base_uri": "https://localhost:8080/",
          "height": 134
        }
      },
      "source": [
        "ls"
      ],
      "execution_count": 3,
      "outputs": [
        {
          "output_type": "stream",
          "text": [
            "CONTRIBUTING.md          main.ipynb               \u001b[0m\u001b[01;34m__pycache__\u001b[0m/\n",
            "data_input.py            main.py                  randaugment.py\n",
            "efficientnet_builder.py  mnist_example.py         README.md\n",
            "efficientnet_model.py    noisystudent_svhn.ipynb  task_info.py\n",
            "ladder_net.py            pic_500.xlsx             utils.py\n",
            "LICENSE                  preprocessing.py\n",
            "\u001b[01;34mlocal_scripts\u001b[0m/           proc_svhn.py\n"
          ],
          "name": "stdout"
        }
      ]
    },
    {
      "cell_type": "code",
      "metadata": {
        "id": "7va_2LfKLoj2",
        "colab_type": "code",
        "outputId": "a1c462cc-74fe-4b64-db5c-a197942c0aae",
        "colab": {
          "base_uri": "https://localhost:8080/",
          "height": 34
        }
      },
      "source": [
        "%tensorflow_version 1.x"
      ],
      "execution_count": 4,
      "outputs": [
        {
          "output_type": "stream",
          "text": [
            "TensorFlow 1.x selected.\n"
          ],
          "name": "stdout"
        }
      ]
    },
    {
      "cell_type": "code",
      "metadata": {
        "id": "3sSsJNB-MBe9",
        "colab_type": "code",
        "outputId": "f939b977-73e9-4c24-990c-3e66a86fb960",
        "colab": {
          "base_uri": "https://localhost:8080/",
          "height": 34
        }
      },
      "source": [
        "import tensorflow as tf\n",
        "tf.__version__"
      ],
      "execution_count": 5,
      "outputs": [
        {
          "output_type": "execute_result",
          "data": {
            "text/plain": [
              "'1.15.2'"
            ]
          },
          "metadata": {
            "tags": []
          },
          "execution_count": 5
        }
      ]
    },
    {
      "cell_type": "code",
      "metadata": {
        "id": "DnbDGAKYCJqe",
        "colab_type": "code",
        "colab": {}
      },
      "source": [
        "import sys\n",
        "\n",
        "sys.path[0]='/tensorflow-1.15.2/python3.6'\n",
        "sys.path"
      ],
      "execution_count": 0,
      "outputs": []
    },
    {
      "cell_type": "code",
      "metadata": {
        "id": "2AkoP62YC_xa",
        "colab_type": "code",
        "outputId": "a1fc2757-8550-426b-da41-c1445648854c",
        "colab": {
          "base_uri": "https://localhost:8080/",
          "height": 357
        }
      },
      "source": [
        "!pip install keras==2.2.5"
      ],
      "execution_count": 0,
      "outputs": [
        {
          "output_type": "stream",
          "text": [
            "Collecting keras==2.2.5\n",
            "\u001b[?25l  Downloading https://files.pythonhosted.org/packages/f8/ba/2d058dcf1b85b9c212cc58264c98a4a7dd92c989b798823cc5690d062bb2/Keras-2.2.5-py2.py3-none-any.whl (336kB)\n",
            "\r\u001b[K     |█                               | 10kB 25.7MB/s eta 0:00:01\r\u001b[K     |██                              | 20kB 6.2MB/s eta 0:00:01\r\u001b[K     |███                             | 30kB 8.7MB/s eta 0:00:01\r\u001b[K     |████                            | 40kB 11.0MB/s eta 0:00:01\r\u001b[K     |████▉                           | 51kB 7.2MB/s eta 0:00:01\r\u001b[K     |█████▉                          | 61kB 8.3MB/s eta 0:00:01\r\u001b[K     |██████▉                         | 71kB 9.4MB/s eta 0:00:01\r\u001b[K     |███████▉                        | 81kB 10.4MB/s eta 0:00:01\r\u001b[K     |████████▊                       | 92kB 8.3MB/s eta 0:00:01\r\u001b[K     |█████████▊                      | 102kB 9.1MB/s eta 0:00:01\r\u001b[K     |██████████▊                     | 112kB 9.1MB/s eta 0:00:01\r\u001b[K     |███████████▊                    | 122kB 9.1MB/s eta 0:00:01\r\u001b[K     |████████████▊                   | 133kB 9.1MB/s eta 0:00:01\r\u001b[K     |█████████████▋                  | 143kB 9.1MB/s eta 0:00:01\r\u001b[K     |██████████████▋                 | 153kB 9.1MB/s eta 0:00:01\r\u001b[K     |███████████████▋                | 163kB 9.1MB/s eta 0:00:01\r\u001b[K     |████████████████▋               | 174kB 9.1MB/s eta 0:00:01\r\u001b[K     |█████████████████▌              | 184kB 9.1MB/s eta 0:00:01\r\u001b[K     |██████████████████▌             | 194kB 9.1MB/s eta 0:00:01\r\u001b[K     |███████████████████▌            | 204kB 9.1MB/s eta 0:00:01\r\u001b[K     |████████████████████▌           | 215kB 9.1MB/s eta 0:00:01\r\u001b[K     |█████████████████████▍          | 225kB 9.1MB/s eta 0:00:01\r\u001b[K     |██████████████████████▍         | 235kB 9.1MB/s eta 0:00:01\r\u001b[K     |███████████████████████▍        | 245kB 9.1MB/s eta 0:00:01\r\u001b[K     |████████████████████████▍       | 256kB 9.1MB/s eta 0:00:01\r\u001b[K     |█████████████████████████▍      | 266kB 9.1MB/s eta 0:00:01\r\u001b[K     |██████████████████████████▎     | 276kB 9.1MB/s eta 0:00:01\r\u001b[K     |███████████████████████████▎    | 286kB 9.1MB/s eta 0:00:01\r\u001b[K     |████████████████████████████▎   | 296kB 9.1MB/s eta 0:00:01\r\u001b[K     |█████████████████████████████▎  | 307kB 9.1MB/s eta 0:00:01\r\u001b[K     |██████████████████████████████▏ | 317kB 9.1MB/s eta 0:00:01\r\u001b[K     |███████████████████████████████▏| 327kB 9.1MB/s eta 0:00:01\r\u001b[K     |████████████████████████████████| 337kB 9.1MB/s \n",
            "\u001b[?25hRequirement already satisfied: keras-preprocessing>=1.1.0 in /usr/local/lib/python3.6/dist-packages (from keras==2.2.5) (1.1.0)\n",
            "Requirement already satisfied: h5py in /usr/local/lib/python3.6/dist-packages (from keras==2.2.5) (2.10.0)\n",
            "Requirement already satisfied: keras-applications>=1.0.8 in /usr/local/lib/python3.6/dist-packages (from keras==2.2.5) (1.0.8)\n",
            "Requirement already satisfied: numpy>=1.9.1 in /usr/local/lib/python3.6/dist-packages (from keras==2.2.5) (1.18.3)\n",
            "Requirement already satisfied: scipy>=0.14 in /usr/local/lib/python3.6/dist-packages (from keras==2.2.5) (1.4.1)\n",
            "Requirement already satisfied: six>=1.9.0 in /usr/local/lib/python3.6/dist-packages (from keras==2.2.5) (1.12.0)\n",
            "Requirement already satisfied: pyyaml in /usr/local/lib/python3.6/dist-packages (from keras==2.2.5) (3.13)\n",
            "Installing collected packages: keras\n",
            "  Found existing installation: Keras 2.3.1\n",
            "    Uninstalling Keras-2.3.1:\n",
            "      Successfully uninstalled Keras-2.3.1\n",
            "Successfully installed keras-2.2.5\n"
          ],
          "name": "stdout"
        },
        {
          "output_type": "display_data",
          "data": {
            "application/vnd.colab-display-data+json": {
              "pip_warning": {
                "packages": [
                  "keras"
                ]
              }
            }
          },
          "metadata": {
            "tags": []
          }
        }
      ]
    },
    {
      "cell_type": "code",
      "metadata": {
        "id": "_HRtJaK2GDDv",
        "colab_type": "code",
        "colab": {}
      },
      "source": [
        "# Find the best ratio\n",
        "from __future__ import print_function\n",
        "\n",
        "from keras.datasets import mnist\n",
        "import keras\n",
        "import random\n",
        "from sklearn.metrics import accuracy_score\n",
        "import numpy as np\n",
        "\n",
        "from ladder_net import get_ladder_network_fc\n",
        "\n",
        "inp_size = 28*28 # size of mnist dataset \n",
        "n_classes = 10\n",
        "(x_train, y_train), (x_test, y_test) = mnist.load_data()\n",
        "\n",
        "x_train = x_train.reshape(60000, inp_size).astype('float32')/255\n",
        "x_test  = x_test.reshape(10000,  inp_size).astype('float32')/255\n",
        "\n",
        "y_train = keras.utils.to_categorical(y_train, n_classes)\n",
        "y_test  = keras.utils.to_categorical(y_test,  n_classes)\n",
        "\n",
        "idxs_label = range(x_train.shape[0])\n",
        "idxs_unlabel = range(x_train.shape[0])\n",
        "size_list=[1,10,50,100,250,500,1000,1500,3000,5000,7500,10000,15000,20000,25000,30000,35000,40000,45000,50000,55000,59500]\n",
        "acc_list=[]\n",
        "labeled_size=500\n",
        "for unlabel_size in size_list:\n",
        "  random.seed(0)\n",
        "  idxs_label = np.random.choice(x_train.shape[0], labeled_size, replace=False)\n",
        "  random.seed(1)\n",
        "  idxs_unlabel = np.random.choice(x_train.shape[0], unlabel_size, replace=False)\n",
        "  x_train_unlabeled = x_train[idxs_unlabel]\n",
        "  y_train_unlabeled = y_train[idxs_unlabel]\n",
        "  x_train_labeled   = x_train[idxs_label]\n",
        "  y_train_labeled   = y_train[idxs_label]\n",
        "  if unlabel_size>=labeled_size:\n",
        "    n_rep = x_train_unlabeled.shape[0] // x_train_labeled.shape[0]\n",
        "    x_train_labeled_rep = np.concatenate([x_train_labeled]*n_rep)\n",
        "    y_train_labeled_rep = np.concatenate([y_train_labeled]*n_rep)\n",
        "  else:\n",
        "    n_rep = x_train_labeled.shape[0] // x_train_unlabeled.shape[0]\n",
        "    x_train_unlabeled_rep = np.concatenate([x_train_unlabeled]*n_rep)\n",
        "    y_train_unlabeled_rep = np.concatenate([y_train_unlabeled]*n_rep)\n",
        "  \n",
        "  model = get_ladder_network_fc(layer_sizes=[inp_size, 1000, 500, 250, 250, 250, n_classes])\n",
        "\n",
        "  # train the model for 10 epochs\n",
        "  for _ in range(10):\n",
        "      if unlabel_size>=labeled_size:\n",
        "        model.fit([x_train_labeled_rep, x_train_unlabeled], y_train_labeled_rep, epochs=1)\n",
        "      else:\n",
        "        model.fit([x_train_labeled, x_train_unlabeled_rep], y_train_labeled, epochs=1)\n",
        "      y_test_pr = model.test_model.predict(x_test, batch_size=100)\n",
        "      acc=accuracy_score(y_test.argmax(-1), y_test_pr.argmax(-1))\n",
        "      print(\"Test accuracy : %f\" % acc)\n",
        "  acc_list.append(acc)"
      ],
      "execution_count": 0,
      "outputs": []
    },
    {
      "cell_type": "code",
      "metadata": {
        "id": "BEWhR3dH3M1l",
        "colab_type": "code",
        "outputId": "fcdce8ba-2c83-47f5-d258-4f099af7df0d",
        "colab": {
          "base_uri": "https://localhost:8080/",
          "height": 295
        }
      },
      "source": [
        "import matplotlib.pyplot as plt\n",
        "size_list_plot=np.array(size_list)\n",
        "plt.plot(size_list_plot/500, acc_list)  \n",
        "plt.title(\"Test accuracy vs the ratio of unlabeled data and labeled data\")\n",
        "plt.xlabel(\"number of unlabeled data as multiple of labeled data\")\n",
        "plt.ylabel(\"test accuracy\")\n",
        "\n",
        "plt.ylim(0.8, 1)\n",
        "plt.show()  "
      ],
      "execution_count": 0,
      "outputs": [
        {
          "output_type": "display_data",
          "data": {
            "image/png": "[encoded data removed]",
            "text/plain": [
              "<Figure size 432x288 with 1 Axes>"
            ]
          },
          "metadata": {
            "tags": []
          }
        }
      ]
    },
    {
      "cell_type": "code",
      "metadata": {
        "id": "MeKkb1ZEMIxp",
        "colab_type": "code",
        "outputId": "74c41532-9502-491d-b5b3-716cd70da3ff",
        "colab": {
          "base_uri": "https://localhost:8080/",
          "height": 54
        }
      },
      "source": [
        "print(acc_list)"
      ],
      "execution_count": 0,
      "outputs": [
        {
          "output_type": "stream",
          "text": [
            "[0.7407, 0.8084, 0.8477, 0.8715, 0.8735, 0.8879, 0.8754, 0.8795, 0.883, 0.8894, 0.8327, 0.8576, 0.8726, 0.8753, 0.8757, 0.88, 0.8916, 0.8808, 0.8895, 0.8828, 0.8731, 0.8839, 0.8872, 0.8946, 0.8998, 0.8991, 0.8962, 0.8964, 0.8971, 0.8996, 0.8706, 0.8748, 0.8877, 0.8974, 0.8961, 0.9005, 0.8963, 0.9052, 0.9098, 0.9076, 0.8912, 0.9031, 0.9099, 0.9173, 0.9132, 0.9242, 0.9195, 0.9252, 0.9274, 0.9324, 0.8968, 0.9141, 0.9158, 0.9281, 0.9289, 0.926, 0.9338, 0.9396, 0.9418, 0.9391, 0.9084, 0.9129, 0.9146, 0.9311, 0.9236, 0.9374, 0.9318, 0.9471, 0.9431, 0.948, 0.9072, 0.9225, 0.9279, 0.9286, 0.9445, 0.9425, 0.9453, 0.948, 0.9502, 0.9448, 0.9177, 0.9251, 0.9358, 0.938, 0.9391, 0.9457, 0.949, 0.9469, 0.9529, 0.9542, 0.9189, 0.9318, 0.9391, 0.9414, 0.9456, 0.9515, 0.9487, 0.9517, 0.951, 0.9552, 0.9058, 0.9233, 0.9297, 0.9322, 0.9431, 0.9444, 0.9522, 0.9538, 0.951, 0.9529, 0.9172, 0.9269, 0.9285, 0.9406, 0.9465, 0.9462, 0.9538, 0.9513, 0.9504, 0.9546, 0.9147, 0.9366, 0.9375, 0.9469, 0.9468, 0.9538, 0.9491, 0.9541, 0.9624, 0.9596, 0.9236, 0.9382, 0.9406, 0.9491, 0.9504, 0.9536, 0.9551, 0.9586, 0.9577, 0.9601]\n"
          ],
          "name": "stdout"
        }
      ]
    },
    {
      "cell_type": "code",
      "metadata": {
        "id": "cw6BnayQQRoo",
        "colab_type": "code",
        "colab": {}
      },
      "source": [
        "# Delete all gaussian noise in the model above\n",
        "from __future__ import print_function\n",
        "\n",
        "from keras.datasets import mnist\n",
        "import keras\n",
        "import random\n",
        "from sklearn.metrics import accuracy_score\n",
        "import numpy as np\n",
        "\n",
        "from ladder_net import get_ladder_network_fc\n",
        "\n",
        "inp_size = 28*28 # size of mnist dataset \n",
        "n_classes = 10\n",
        "(x_train, y_train), (x_test, y_test) = mnist.load_data()\n",
        "\n",
        "x_train = x_train.reshape(60000, inp_size).astype('float32')/255\n",
        "x_test  = x_test.reshape(10000,  inp_size).astype('float32')/255\n",
        "\n",
        "y_train = keras.utils.to_categorical(y_train, n_classes)\n",
        "y_test  = keras.utils.to_categorical(y_test,  n_classes)\n",
        "\n",
        "idxs_label = range(x_train.shape[0])\n",
        "idxs_unlabel = range(x_train.shape[0])\n",
        "size_list=[1,10,50,100,250,500,1000,1500,3000,5000,7500,10000,15000,20000,25000,30000,35000,40000,45000,50000,55000,59500]\n",
        "acc_list=[]\n",
        "labeled_size=500\n",
        "for unlabel_size in size_list:\n",
        "  random.seed(0)\n",
        "  idxs_label = np.random.choice(x_train.shape[0], labeled_size, replace=False)\n",
        "  random.seed(1)\n",
        "  idxs_unlabel = np.random.choice(x_train.shape[0], unlabel_size, replace=False)\n",
        "  x_train_unlabeled = x_train[idxs_unlabel]\n",
        "  y_train_unlabeled = y_train[idxs_unlabel]\n",
        "  x_train_labeled   = x_train[idxs_label]\n",
        "  y_train_labeled   = y_train[idxs_label]\n",
        "  if unlabel_size>=labeled_size:\n",
        "    n_rep = x_train_unlabeled.shape[0] // x_train_labeled.shape[0]\n",
        "    x_train_labeled_rep = np.concatenate([x_train_labeled]*n_rep)\n",
        "    y_train_labeled_rep = np.concatenate([y_train_labeled]*n_rep)\n",
        "  else:\n",
        "    n_rep = x_train_labeled.shape[0] // x_train_unlabeled.shape[0]\n",
        "    x_train_unlabeled_rep = np.concatenate([x_train_unlabeled]*n_rep)\n",
        "    y_train_unlabeled_rep = np.concatenate([y_train_unlabeled]*n_rep)\n",
        "  \n",
        "  model = get_ladder_network_fc(layer_sizes=[inp_size, 1000, 500, 250, 250, 250, n_classes],noise_std=0)\n",
        "\n",
        "  # train the model for 10 epochs\n",
        "  for _ in range(10):\n",
        "      if unlabel_size>=labeled_size:\n",
        "        model.fit([x_train_labeled_rep, x_train_unlabeled], y_train_labeled_rep, epochs=1)\n",
        "      else:\n",
        "        model.fit([x_train_labeled, x_train_unlabeled_rep], y_train_labeled, epochs=1)\n",
        "      y_test_pr = model.test_model.predict(x_test, batch_size=100)\n",
        "      acc=accuracy_score(y_test.argmax(-1), y_test_pr.argmax(-1))\n",
        "      print(\"Test accuracy : %f\" % acc)\n",
        "  acc_list.append(acc)"
      ],
      "execution_count": 0,
      "outputs": []
    },
    {
      "cell_type": "code",
      "metadata": {
        "id": "Q358sLirQR3h",
        "colab_type": "code",
        "colab": {}
      },
      "source": [
        "import matplotlib.pyplot as plt\n",
        "size_list_plot=np.array(size_list)\n",
        "plt.plot(size_list_plot/500, acc_list)  \n",
        "plt.title(\"Test accuracy vs the ratio of unlabeled data and labeled data\")\n",
        "plt.xlabel(\"number of unlabeled data as multiple of labeled data\")\n",
        "plt.ylabel(\"test accuracy\")\n",
        "\n",
        "plt.ylim(0.7, 1)\n",
        "plt.show()  "
      ],
      "execution_count": 0,
      "outputs": []
    },
    {
      "cell_type": "code",
      "metadata": {
        "id": "79lQCkROw7-c",
        "colab_type": "code",
        "outputId": "106e7892-3548-491d-f8c1-4d1c9a09b305",
        "colab": {
          "base_uri": "https://localhost:8080/",
          "height": 1000
        }
      },
      "source": [
        "#Change the norm of the gaussian noise\n",
        "from __future__ import print_function\n",
        "\n",
        "from keras.datasets import mnist\n",
        "import keras\n",
        "import random\n",
        "from sklearn.metrics import accuracy_score\n",
        "import numpy as np\n",
        "\n",
        "from ladder_net import get_ladder_network_fc\n",
        "\n",
        "inp_size = 28*28 # size of mnist dataset \n",
        "n_classes = 10\n",
        "(x_train, y_train), (x_test, y_test) = mnist.load_data()\n",
        "\n",
        "x_train = x_train.reshape(60000, inp_size).astype('float32')/255\n",
        "x_test  = x_test.reshape(10000,  inp_size).astype('float32')/255\n",
        "\n",
        "y_train = keras.utils.to_categorical(y_train, n_classes)\n",
        "y_test  = keras.utils.to_categorical(y_test,  n_classes)\n",
        "\n",
        "idxs_label = range(x_train.shape[0])\n",
        "idxs_unlabel = range(x_train.shape[0])\n",
        "noise_list=[0,0.05,0.1,0.15,0.2,0.25,0.3,0.35,0.4,0.45,0.5]\n",
        "acc_list_noise=[]\n",
        "labeled_size=500\n",
        "unlabel_size=40000\n",
        "random.seed(0)\n",
        "idxs_label = np.random.choice(x_train.shape[0], labeled_size, replace=False)\n",
        "random.seed(1)\n",
        "idxs_unlabel = np.random.choice(x_train.shape[0], unlabel_size, replace=False)\n",
        "x_train_unlabeled = x_train[idxs_unlabel]\n",
        "y_train_unlabeled = y_train[idxs_unlabel]\n",
        "x_train_labeled   = x_train[idxs_label]\n",
        "y_train_labeled   = y_train[idxs_label]\n",
        "if unlabel_size>=labeled_size:\n",
        "  n_rep = x_train_unlabeled.shape[0] // x_train_labeled.shape[0]\n",
        "  x_train_labeled_rep = np.concatenate([x_train_labeled]*n_rep)\n",
        "  y_train_labeled_rep = np.concatenate([y_train_labeled]*n_rep)\n",
        "else:\n",
        "  n_rep = x_train_labeled.shape[0] // x_train_unlabeled.shape[0]\n",
        "  x_train_unlabeled_rep = np.concatenate([x_train_unlabeled]*n_rep)\n",
        "  y_train_unlabeled_rep = np.concatenate([y_train_unlabeled]*n_rep)\n",
        "for noise in noise_list:  \n",
        "  model = get_ladder_network_fc(layer_sizes=[inp_size, 1000, 500, 250, 250, 250, n_classes],noise_std=noise)\n",
        "\n",
        "  # train the model for 10 epochs\n",
        "  for _ in range(10):\n",
        "      if unlabel_size>=labeled_size:\n",
        "        model.fit([x_train_labeled_rep, x_train_unlabeled], y_train_labeled_rep, epochs=1)\n",
        "      else:\n",
        "        model.fit([x_train_labeled, x_train_unlabeled_rep], y_train_labeled, epochs=1)\n",
        "      y_test_pr = model.test_model.predict(x_test, batch_size=100)\n",
        "      acc=accuracy_score(y_test.argmax(-1), y_test_pr.argmax(-1))\n",
        "      print(\"Test accuracy : %f\" % acc)\n",
        "  acc_list_noise.append(acc)  "
      ],
      "execution_count": 6,
      "outputs": [
        {
          "output_type": "stream",
          "text": [
            "Using TensorFlow backend.\n"
          ],
          "name": "stderr"
        },
        {
          "output_type": "stream",
          "text": [
            "Downloading data from https://s3.amazonaws.com/img-datasets/mnist.npz\n",
            "11493376/11490434 [==============================] - 1s 0us/step\n",
            "WARNING:tensorflow:From /content/drive/My Drive/final_code/noisystudent-master/ladder_net.py:78: The name tf.random_normal is deprecated. Please use tf.random.normal instead.\n",
            "\n",
            "WARNING:tensorflow:From /tensorflow-1.15.2/python3.6/tensorflow_core/python/ops/resource_variable_ops.py:1630: calling BaseResourceVariable.__init__ (from tensorflow.python.ops.resource_variable_ops) with constraint is deprecated and will be removed in a future version.\n",
            "Instructions for updating:\n",
            "If using Keras pass *_constraint arguments to layers.\n"
          ],
          "name": "stdout"
        },
        {
          "output_type": "stream",
          "text": [
            "/usr/local/lib/python3.6/dist-packages/keras/engine/training.py:297: UserWarning: Discrepancy between trainable weights and collected trainable weights, did you set `model.trainable` without calling `model.compile` after ?\n",
            "  'Discrepancy between trainable weights and collected trainable'\n"
          ],
          "name": "stderr"
        },
        {
          "output_type": "stream",
          "text": [
            "WARNING:tensorflow:From /tensorflow-1.15.2/python3.6/tensorflow_core/python/ops/math_grad.py:1424: where (from tensorflow.python.ops.array_ops) is deprecated and will be removed in a future version.\n",
            "Instructions for updating:\n",
            "Use tf.where in 2.0, which has the same broadcast rule as np.where\n",
            "WARNING:tensorflow:From /usr/local/lib/python3.6/dist-packages/keras/backend/tensorflow_backend.py:422: The name tf.global_variables is deprecated. Please use tf.compat.v1.global_variables instead.\n",
            "\n",
            "Epoch 1/1\n",
            "40000/40000 [==============================] - 85s 2ms/step - loss: 1.2690 - accuracy: 0.9743\n",
            "Test accuracy : 0.888700\n",
            "Epoch 1/1\n",
            "   96/40000 [..............................] - ETA: 1:17 - loss: 0.3493 - accuracy: 1.0000"
          ],
          "name": "stdout"
        },
        {
          "output_type": "stream",
          "text": [
            "/usr/local/lib/python3.6/dist-packages/keras/engine/training.py:297: UserWarning: Discrepancy between trainable weights and collected trainable weights, did you set `model.trainable` without calling `model.compile` after ?\n",
            "  'Discrepancy between trainable weights and collected trainable'\n"
          ],
          "name": "stderr"
        },
        {
          "output_type": "stream",
          "text": [
            "40000/40000 [==============================] - 80s 2ms/step - loss: 0.3970 - accuracy: 0.9934\n",
            "Test accuracy : 0.878400\n",
            "Epoch 1/1\n",
            "40000/40000 [==============================] - 79s 2ms/step - loss: 0.3986 - accuracy: 0.9933\n",
            "Test accuracy : 0.882200\n",
            "Epoch 1/1\n",
            "40000/40000 [==============================] - 79s 2ms/step - loss: 0.3934 - accuracy: 0.9952\n",
            "Test accuracy : 0.883500\n",
            "Epoch 1/1\n",
            "40000/40000 [==============================] - 79s 2ms/step - loss: 0.3905 - accuracy: 0.9959\n",
            "Test accuracy : 0.889500\n",
            "Epoch 1/1\n",
            "40000/40000 [==============================] - 80s 2ms/step - loss: 0.3864 - accuracy: 0.9979\n",
            "Test accuracy : 0.886400\n",
            "Epoch 1/1\n",
            "40000/40000 [==============================] - 80s 2ms/step - loss: 0.3850 - accuracy: 0.9975\n",
            "Test accuracy : 0.876700\n",
            "Epoch 1/1\n",
            "40000/40000 [==============================] - 80s 2ms/step - loss: 0.3872 - accuracy: 0.9973\n",
            "Test accuracy : 0.887100\n",
            "Epoch 1/1\n",
            "40000/40000 [==============================] - 80s 2ms/step - loss: 0.3824 - accuracy: 0.9989\n",
            "Test accuracy : 0.886800\n",
            "Epoch 1/1\n",
            "40000/40000 [==============================] - 82s 2ms/step - loss: 0.3836 - accuracy: 0.9980\n",
            "Test accuracy : 0.888000\n",
            "Epoch 1/1\n",
            "40000/40000 [==============================] - 88s 2ms/step - loss: 2.3405 - accuracy: 0.9734\n",
            "Test accuracy : 0.885300\n",
            "Epoch 1/1\n",
            "   64/40000 [..............................] - ETA: 1:25 - loss: 1.3248 - accuracy: 1.0000"
          ],
          "name": "stdout"
        },
        {
          "output_type": "stream",
          "text": [
            "/usr/local/lib/python3.6/dist-packages/keras/engine/training.py:297: UserWarning: Discrepancy between trainable weights and collected trainable weights, did you set `model.trainable` without calling `model.compile` after ?\n",
            "  'Discrepancy between trainable weights and collected trainable'\n"
          ],
          "name": "stderr"
        },
        {
          "output_type": "stream",
          "text": [
            "40000/40000 [==============================] - 82s 2ms/step - loss: 1.2564 - accuracy: 0.9931\n",
            "Test accuracy : 0.886800\n",
            "Epoch 1/1\n",
            "40000/40000 [==============================] - 81s 2ms/step - loss: 1.1567 - accuracy: 0.9953\n",
            "Test accuracy : 0.892800\n",
            "Epoch 1/1\n",
            "40000/40000 [==============================] - 81s 2ms/step - loss: 1.1197 - accuracy: 0.9948\n",
            "Test accuracy : 0.905300\n",
            "Epoch 1/1\n",
            "40000/40000 [==============================] - 81s 2ms/step - loss: 1.0967 - accuracy: 0.9968\n",
            "Test accuracy : 0.908900\n",
            "Epoch 1/1\n",
            "40000/40000 [==============================] - 80s 2ms/step - loss: 1.0817 - accuracy: 0.9983\n",
            "Test accuracy : 0.898800\n",
            "Epoch 1/1\n",
            "40000/40000 [==============================] - 80s 2ms/step - loss: 1.0736 - accuracy: 0.9969\n",
            "Test accuracy : 0.905000\n",
            "Epoch 1/1\n",
            "40000/40000 [==============================] - 81s 2ms/step - loss: 1.0552 - accuracy: 0.9993\n",
            "Test accuracy : 0.909400\n",
            "Epoch 1/1\n",
            "40000/40000 [==============================] - 81s 2ms/step - loss: 1.0557 - accuracy: 0.9979\n",
            "Test accuracy : 0.887600\n",
            "Epoch 1/1\n",
            "40000/40000 [==============================] - 81s 2ms/step - loss: 1.0440 - accuracy: 0.9975\n",
            "Test accuracy : 0.891300\n",
            "Epoch 1/1\n",
            "40000/40000 [==============================] - 86s 2ms/step - loss: 4.2940 - accuracy: 0.9729\n",
            "Test accuracy : 0.905100\n",
            "Epoch 1/1\n",
            "   96/40000 [..............................] - ETA: 1:15 - loss: 2.9999 - accuracy: 0.9583"
          ],
          "name": "stdout"
        },
        {
          "output_type": "stream",
          "text": [
            "/usr/local/lib/python3.6/dist-packages/keras/engine/training.py:297: UserWarning: Discrepancy between trainable weights and collected trainable weights, did you set `model.trainable` without calling `model.compile` after ?\n",
            "  'Discrepancy between trainable weights and collected trainable'\n"
          ],
          "name": "stderr"
        },
        {
          "output_type": "stream",
          "text": [
            "40000/40000 [==============================] - 80s 2ms/step - loss: 2.6982 - accuracy: 0.9920\n",
            "Test accuracy : 0.908800\n",
            "Epoch 1/1\n",
            "40000/40000 [==============================] - 81s 2ms/step - loss: 2.5334 - accuracy: 0.9955\n",
            "Test accuracy : 0.911200\n",
            "Epoch 1/1\n",
            "40000/40000 [==============================] - 81s 2ms/step - loss: 2.4697 - accuracy: 0.9957\n",
            "Test accuracy : 0.906200\n",
            "Epoch 1/1\n",
            "40000/40000 [==============================] - 81s 2ms/step - loss: 2.4279 - accuracy: 0.9973\n",
            "Test accuracy : 0.910400\n",
            "Epoch 1/1\n",
            "40000/40000 [==============================] - 81s 2ms/step - loss: 2.3991 - accuracy: 0.9974\n",
            "Test accuracy : 0.914200\n",
            "Epoch 1/1\n",
            "40000/40000 [==============================] - 81s 2ms/step - loss: 2.3779 - accuracy: 0.9979\n",
            "Test accuracy : 0.914000\n",
            "Epoch 1/1\n",
            "40000/40000 [==============================] - 81s 2ms/step - loss: 2.3553 - accuracy: 0.9983\n",
            "Test accuracy : 0.916700\n",
            "Epoch 1/1\n",
            "40000/40000 [==============================] - 81s 2ms/step - loss: 2.3256 - accuracy: 0.9991\n",
            "Test accuracy : 0.917600\n",
            "Epoch 1/1\n",
            "40000/40000 [==============================] - 81s 2ms/step - loss: 2.3244 - accuracy: 0.9984\n",
            "Test accuracy : 0.913700\n",
            "Epoch 1/1\n",
            "40000/40000 [==============================] - 86s 2ms/step - loss: 6.5996 - accuracy: 0.9701\n",
            "Test accuracy : 0.907000\n",
            "Epoch 1/1\n",
            "   96/40000 [..............................] - ETA: 1:18 - loss: 4.5809 - accuracy: 1.0000"
          ],
          "name": "stdout"
        },
        {
          "output_type": "stream",
          "text": [
            "/usr/local/lib/python3.6/dist-packages/keras/engine/training.py:297: UserWarning: Discrepancy between trainable weights and collected trainable weights, did you set `model.trainable` without calling `model.compile` after ?\n",
            "  'Discrepancy between trainable weights and collected trainable'\n"
          ],
          "name": "stderr"
        },
        {
          "output_type": "stream",
          "text": [
            "40000/40000 [==============================] - 82s 2ms/step - loss: 4.5220 - accuracy: 0.9920\n",
            "Test accuracy : 0.901200\n",
            "Epoch 1/1\n",
            "40000/40000 [==============================] - 81s 2ms/step - loss: 4.3170 - accuracy: 0.9943\n",
            "Test accuracy : 0.909300\n",
            "Epoch 1/1\n",
            "40000/40000 [==============================] - 81s 2ms/step - loss: 4.2375 - accuracy: 0.9962\n",
            "Test accuracy : 0.916500\n",
            "Epoch 1/1\n",
            "40000/40000 [==============================] - 81s 2ms/step - loss: 4.1722 - accuracy: 0.9959\n",
            "Test accuracy : 0.906300\n",
            "Epoch 1/1\n",
            "40000/40000 [==============================] - 81s 2ms/step - loss: 4.1277 - accuracy: 0.9969\n",
            "Test accuracy : 0.912000\n",
            "Epoch 1/1\n",
            "40000/40000 [==============================] - 81s 2ms/step - loss: 4.0808 - accuracy: 0.9984\n",
            "Test accuracy : 0.922300\n",
            "Epoch 1/1\n",
            "40000/40000 [==============================] - 81s 2ms/step - loss: 4.0453 - accuracy: 0.9985\n",
            "Test accuracy : 0.920600\n",
            "Epoch 1/1\n",
            "40000/40000 [==============================] - 81s 2ms/step - loss: 4.0241 - accuracy: 0.9980\n",
            "Test accuracy : 0.920400\n",
            "Epoch 1/1\n",
            "40000/40000 [==============================] - 82s 2ms/step - loss: 3.9963 - accuracy: 0.9978\n",
            "Test accuracy : 0.931800\n",
            "Epoch 1/1\n",
            "40000/40000 [==============================] - 87s 2ms/step - loss: 9.0808 - accuracy: 0.9629\n",
            "Test accuracy : 0.909100\n",
            "Epoch 1/1\n",
            "   96/40000 [..............................] - ETA: 1:17 - loss: 6.8004 - accuracy: 0.9792"
          ],
          "name": "stdout"
        },
        {
          "output_type": "stream",
          "text": [
            "/usr/local/lib/python3.6/dist-packages/keras/engine/training.py:297: UserWarning: Discrepancy between trainable weights and collected trainable weights, did you set `model.trainable` without calling `model.compile` after ?\n",
            "  'Discrepancy between trainable weights and collected trainable'\n"
          ],
          "name": "stderr"
        },
        {
          "output_type": "stream",
          "text": [
            "40000/40000 [==============================] - 82s 2ms/step - loss: 6.6448 - accuracy: 0.9897\n",
            "Test accuracy : 0.914200\n",
            "Epoch 1/1\n",
            "40000/40000 [==============================] - 82s 2ms/step - loss: 6.4035 - accuracy: 0.9920\n",
            "Test accuracy : 0.911900\n",
            "Epoch 1/1\n",
            "40000/40000 [==============================] - 82s 2ms/step - loss: 6.2657 - accuracy: 0.9947\n",
            "Test accuracy : 0.929800\n",
            "Epoch 1/1\n",
            "40000/40000 [==============================] - 82s 2ms/step - loss: 6.1699 - accuracy: 0.9952\n",
            "Test accuracy : 0.930800\n",
            "Epoch 1/1\n",
            "40000/40000 [==============================] - 82s 2ms/step - loss: 6.0957 - accuracy: 0.9962\n",
            "Test accuracy : 0.937100\n",
            "Epoch 1/1\n",
            "40000/40000 [==============================] - 82s 2ms/step - loss: 6.0097 - accuracy: 0.9974\n",
            "Test accuracy : 0.928000\n",
            "Epoch 1/1\n",
            "40000/40000 [==============================] - 82s 2ms/step - loss: 5.9611 - accuracy: 0.9971\n",
            "Test accuracy : 0.938700\n",
            "Epoch 1/1\n",
            "40000/40000 [==============================] - 82s 2ms/step - loss: 5.9197 - accuracy: 0.9979\n",
            "Test accuracy : 0.938100\n",
            "Epoch 1/1\n",
            "40000/40000 [==============================] - 83s 2ms/step - loss: 5.8596 - accuracy: 0.9980\n",
            "Test accuracy : 0.942700\n",
            "Epoch 1/1\n",
            "40000/40000 [==============================] - 88s 2ms/step - loss: 11.6640 - accuracy: 0.9561\n",
            "Test accuracy : 0.914300\n",
            "Epoch 1/1\n",
            "   96/40000 [..............................] - ETA: 1:20 - loss: 9.3379 - accuracy: 0.9688"
          ],
          "name": "stdout"
        },
        {
          "output_type": "stream",
          "text": [
            "/usr/local/lib/python3.6/dist-packages/keras/engine/training.py:297: UserWarning: Discrepancy between trainable weights and collected trainable weights, did you set `model.trainable` without calling `model.compile` after ?\n",
            "  'Discrepancy between trainable weights and collected trainable'\n"
          ],
          "name": "stderr"
        },
        {
          "output_type": "stream",
          "text": [
            "40000/40000 [==============================] - 83s 2ms/step - loss: 8.9354 - accuracy: 0.9853\n",
            "Test accuracy : 0.924700\n",
            "Epoch 1/1\n",
            "40000/40000 [==============================] - 83s 2ms/step - loss: 8.6024 - accuracy: 0.9891\n",
            "Test accuracy : 0.933200\n",
            "Epoch 1/1\n",
            "40000/40000 [==============================] - 83s 2ms/step - loss: 8.3702 - accuracy: 0.9909\n",
            "Test accuracy : 0.935000\n",
            "Epoch 1/1\n",
            "40000/40000 [==============================] - 82s 2ms/step - loss: 8.2660 - accuracy: 0.9919\n",
            "Test accuracy : 0.938200\n",
            "Epoch 1/1\n",
            "40000/40000 [==============================] - 82s 2ms/step - loss: 8.1350 - accuracy: 0.9926\n",
            "Test accuracy : 0.944000\n",
            "Epoch 1/1\n",
            "40000/40000 [==============================] - 82s 2ms/step - loss: 8.0065 - accuracy: 0.9954\n",
            "Test accuracy : 0.947400\n",
            "Epoch 1/1\n",
            "40000/40000 [==============================] - 82s 2ms/step - loss: 7.9264 - accuracy: 0.9951\n",
            "Test accuracy : 0.950100\n",
            "Epoch 1/1\n",
            "40000/40000 [==============================] - 82s 2ms/step - loss: 7.8583 - accuracy: 0.9952\n",
            "Test accuracy : 0.952700\n",
            "Epoch 1/1\n",
            "40000/40000 [==============================] - 82s 2ms/step - loss: 7.7816 - accuracy: 0.9962\n",
            "Test accuracy : 0.950500\n",
            "Epoch 1/1\n",
            "40000/40000 [==============================] - 88s 2ms/step - loss: 14.2039 - accuracy: 0.9443\n",
            "Test accuracy : 0.921000\n",
            "Epoch 1/1\n",
            "   64/40000 [..............................] - ETA: 1:22 - loss: 11.7083 - accuracy: 0.9844"
          ],
          "name": "stdout"
        },
        {
          "output_type": "stream",
          "text": [
            "/usr/local/lib/python3.6/dist-packages/keras/engine/training.py:297: UserWarning: Discrepancy between trainable weights and collected trainable weights, did you set `model.trainable` without calling `model.compile` after ?\n",
            "  'Discrepancy between trainable weights and collected trainable'\n"
          ],
          "name": "stderr"
        },
        {
          "output_type": "stream",
          "text": [
            "40000/40000 [==============================] - 83s 2ms/step - loss: 11.2060 - accuracy: 0.9793\n",
            "Test accuracy : 0.935000\n",
            "Epoch 1/1\n",
            "40000/40000 [==============================] - 83s 2ms/step - loss: 10.7748 - accuracy: 0.9835\n",
            "Test accuracy : 0.941800\n",
            "Epoch 1/1\n",
            "40000/40000 [==============================] - 83s 2ms/step - loss: 10.4558 - accuracy: 0.9861\n",
            "Test accuracy : 0.946400\n",
            "Epoch 1/1\n",
            "40000/40000 [==============================] - 83s 2ms/step - loss: 10.2566 - accuracy: 0.9877\n",
            "Test accuracy : 0.948200\n",
            "Epoch 1/1\n",
            "40000/40000 [==============================] - 83s 2ms/step - loss: 10.1243 - accuracy: 0.9884\n",
            "Test accuracy : 0.950400\n",
            "Epoch 1/1\n",
            "40000/40000 [==============================] - 84s 2ms/step - loss: 9.9865 - accuracy: 0.9909\n",
            "Test accuracy : 0.951800\n",
            "Epoch 1/1\n",
            "40000/40000 [==============================] - 83s 2ms/step - loss: 9.8606 - accuracy: 0.9917\n",
            "Test accuracy : 0.954700\n",
            "Epoch 1/1\n",
            "40000/40000 [==============================] - 83s 2ms/step - loss: 9.7527 - accuracy: 0.9923\n",
            "Test accuracy : 0.957700\n",
            "Epoch 1/1\n",
            "40000/40000 [==============================] - 83s 2ms/step - loss: 9.7004 - accuracy: 0.9930\n",
            "Test accuracy : 0.958800\n",
            "Epoch 1/1\n",
            "40000/40000 [==============================] - 88s 2ms/step - loss: 16.8043 - accuracy: 0.9284\n",
            "Test accuracy : 0.930500\n",
            "Epoch 1/1\n",
            "   64/40000 [..............................] - ETA: 1:20 - loss: 13.3417 - accuracy: 0.9375"
          ],
          "name": "stdout"
        },
        {
          "output_type": "stream",
          "text": [
            "/usr/local/lib/python3.6/dist-packages/keras/engine/training.py:297: UserWarning: Discrepancy between trainable weights and collected trainable weights, did you set `model.trainable` without calling `model.compile` after ?\n",
            "  'Discrepancy between trainable weights and collected trainable'\n"
          ],
          "name": "stderr"
        },
        {
          "output_type": "stream",
          "text": [
            "40000/40000 [==============================] - 83s 2ms/step - loss: 13.4188 - accuracy: 0.9670\n",
            "Test accuracy : 0.938100\n",
            "Epoch 1/1\n",
            "40000/40000 [==============================] - 83s 2ms/step - loss: 12.8550 - accuracy: 0.9745\n",
            "Test accuracy : 0.945800\n",
            "Epoch 1/1\n",
            "40000/40000 [==============================] - 84s 2ms/step - loss: 12.5271 - accuracy: 0.9765\n",
            "Test accuracy : 0.949200\n",
            "Epoch 1/1\n",
            "40000/40000 [==============================] - 83s 2ms/step - loss: 12.2724 - accuracy: 0.9802\n",
            "Test accuracy : 0.952700\n",
            "Epoch 1/1\n",
            "40000/40000 [==============================] - 83s 2ms/step - loss: 12.1051 - accuracy: 0.9819\n",
            "Test accuracy : 0.954800\n",
            "Epoch 1/1\n",
            "40000/40000 [==============================] - 83s 2ms/step - loss: 11.9767 - accuracy: 0.9818\n",
            "Test accuracy : 0.950800\n",
            "Epoch 1/1\n",
            "40000/40000 [==============================] - 83s 2ms/step - loss: 11.8127 - accuracy: 0.9843\n",
            "Test accuracy : 0.955400\n",
            "Epoch 1/1\n",
            "40000/40000 [==============================] - 83s 2ms/step - loss: 11.7469 - accuracy: 0.9841\n",
            "Test accuracy : 0.959500\n",
            "Epoch 1/1\n",
            "40000/40000 [==============================] - 83s 2ms/step - loss: 11.6125 - accuracy: 0.9857\n",
            "Test accuracy : 0.960300\n",
            "Epoch 1/1\n",
            "40000/40000 [==============================] - 90s 2ms/step - loss: 19.1826 - accuracy: 0.9097\n",
            "Test accuracy : 0.920200\n",
            "Epoch 1/1\n",
            "   64/40000 [..............................] - ETA: 1:20 - loss: 16.7607 - accuracy: 0.9531"
          ],
          "name": "stdout"
        },
        {
          "output_type": "stream",
          "text": [
            "/usr/local/lib/python3.6/dist-packages/keras/engine/training.py:297: UserWarning: Discrepancy between trainable weights and collected trainable weights, did you set `model.trainable` without calling `model.compile` after ?\n",
            "  'Discrepancy between trainable weights and collected trainable'\n"
          ],
          "name": "stderr"
        },
        {
          "output_type": "stream",
          "text": [
            "40000/40000 [==============================] - 84s 2ms/step - loss: 15.5656 - accuracy: 0.9524\n",
            "Test accuracy : 0.934300\n",
            "Epoch 1/1\n",
            "40000/40000 [==============================] - 84s 2ms/step - loss: 14.9273 - accuracy: 0.9597\n",
            "Test accuracy : 0.942900\n",
            "Epoch 1/1\n",
            "40000/40000 [==============================] - 85s 2ms/step - loss: 14.5543 - accuracy: 0.9627\n",
            "Test accuracy : 0.947200\n",
            "Epoch 1/1\n",
            "40000/40000 [==============================] - 85s 2ms/step - loss: 14.2611 - accuracy: 0.9650\n",
            "Test accuracy : 0.947600\n",
            "Epoch 1/1\n",
            "40000/40000 [==============================] - 85s 2ms/step - loss: 14.0790 - accuracy: 0.9678\n",
            "Test accuracy : 0.951800\n",
            "Epoch 1/1\n",
            "40000/40000 [==============================] - 85s 2ms/step - loss: 13.8581 - accuracy: 0.9691\n",
            "Test accuracy : 0.949600\n",
            "Epoch 1/1\n",
            "40000/40000 [==============================] - 85s 2ms/step - loss: 13.7603 - accuracy: 0.9714\n",
            "Test accuracy : 0.953500\n",
            "Epoch 1/1\n",
            "40000/40000 [==============================] - 85s 2ms/step - loss: 13.5788 - accuracy: 0.9717\n",
            "Test accuracy : 0.957200\n",
            "Epoch 1/1\n",
            "40000/40000 [==============================] - 85s 2ms/step - loss: 13.5128 - accuracy: 0.9736\n",
            "Test accuracy : 0.956100\n",
            "Epoch 1/1\n",
            "40000/40000 [==============================] - 92s 2ms/step - loss: 21.7809 - accuracy: 0.8811\n",
            "Test accuracy : 0.928000\n",
            "Epoch 1/1\n",
            "   64/40000 [..............................] - ETA: 1:22 - loss: 18.8291 - accuracy: 0.9375"
          ],
          "name": "stdout"
        },
        {
          "output_type": "stream",
          "text": [
            "/usr/local/lib/python3.6/dist-packages/keras/engine/training.py:297: UserWarning: Discrepancy between trainable weights and collected trainable weights, did you set `model.trainable` without calling `model.compile` after ?\n",
            "  'Discrepancy between trainable weights and collected trainable'\n"
          ],
          "name": "stderr"
        },
        {
          "output_type": "stream",
          "text": [
            "40000/40000 [==============================] - 86s 2ms/step - loss: 17.9176 - accuracy: 0.9276\n",
            "Test accuracy : 0.940200\n",
            "Epoch 1/1\n",
            "40000/40000 [==============================] - 86s 2ms/step - loss: 17.1415 - accuracy: 0.9395\n",
            "Test accuracy : 0.941100\n",
            "Epoch 1/1\n",
            "40000/40000 [==============================] - 86s 2ms/step - loss: 16.6959 - accuracy: 0.9436\n",
            "Test accuracy : 0.947500\n",
            "Epoch 1/1\n",
            "40000/40000 [==============================] - 86s 2ms/step - loss: 16.3615 - accuracy: 0.9473\n",
            "Test accuracy : 0.948300\n",
            "Epoch 1/1\n",
            "40000/40000 [==============================] - 85s 2ms/step - loss: 16.1402 - accuracy: 0.9509\n",
            "Test accuracy : 0.955100\n",
            "Epoch 1/1\n",
            "40000/40000 [==============================] - 85s 2ms/step - loss: 15.9270 - accuracy: 0.9520\n",
            "Test accuracy : 0.956500\n",
            "Epoch 1/1\n",
            "40000/40000 [==============================] - 85s 2ms/step - loss: 15.7470 - accuracy: 0.9561\n",
            "Test accuracy : 0.955100\n",
            "Epoch 1/1\n",
            "40000/40000 [==============================] - 85s 2ms/step - loss: 15.6386 - accuracy: 0.9544\n",
            "Test accuracy : 0.956200\n",
            "Epoch 1/1\n",
            "40000/40000 [==============================] - 85s 2ms/step - loss: 15.5404 - accuracy: 0.9585\n",
            "Test accuracy : 0.959100\n",
            "Epoch 1/1\n",
            "40000/40000 [==============================] - 92s 2ms/step - loss: 24.1584 - accuracy: 0.8464\n",
            "Test accuracy : 0.929900\n",
            "Epoch 1/1\n",
            "   64/40000 [..............................] - ETA: 1:23 - loss: 19.1454 - accuracy: 0.9219"
          ],
          "name": "stdout"
        },
        {
          "output_type": "stream",
          "text": [
            "/usr/local/lib/python3.6/dist-packages/keras/engine/training.py:297: UserWarning: Discrepancy between trainable weights and collected trainable weights, did you set `model.trainable` without calling `model.compile` after ?\n",
            "  'Discrepancy between trainable weights and collected trainable'\n"
          ],
          "name": "stderr"
        },
        {
          "output_type": "stream",
          "text": [
            "40000/40000 [==============================] - 87s 2ms/step - loss: 20.0090 - accuracy: 0.9053\n",
            "Test accuracy : 0.937200\n",
            "Epoch 1/1\n",
            "40000/40000 [==============================] - 88s 2ms/step - loss: 19.1748 - accuracy: 0.9179\n",
            "Test accuracy : 0.940100\n",
            "Epoch 1/1\n",
            "40000/40000 [==============================] - 87s 2ms/step - loss: 18.6983 - accuracy: 0.9216\n",
            "Test accuracy : 0.944500\n",
            "Epoch 1/1\n",
            "40000/40000 [==============================] - 89s 2ms/step - loss: 18.3761 - accuracy: 0.9245\n",
            "Test accuracy : 0.948300\n",
            "Epoch 1/1\n",
            "40000/40000 [==============================] - 87s 2ms/step - loss: 18.0791 - accuracy: 0.9289\n",
            "Test accuracy : 0.950100\n",
            "Epoch 1/1\n",
            "40000/40000 [==============================] - 87s 2ms/step - loss: 17.8401 - accuracy: 0.9327\n",
            "Test accuracy : 0.950700\n",
            "Epoch 1/1\n",
            "40000/40000 [==============================] - 87s 2ms/step - loss: 17.7737 - accuracy: 0.9359\n",
            "Test accuracy : 0.949600\n",
            "Epoch 1/1\n",
            "40000/40000 [==============================] - 87s 2ms/step - loss: 17.5696 - accuracy: 0.9356\n",
            "Test accuracy : 0.954300\n",
            "Epoch 1/1\n",
            "40000/40000 [==============================] - 87s 2ms/step - loss: 17.4454 - accuracy: 0.9374\n",
            "Test accuracy : 0.955100\n"
          ],
          "name": "stdout"
        }
      ]
    },
    {
      "cell_type": "code",
      "metadata": {
        "id": "Zsh4Fwdq-dcZ",
        "colab_type": "code",
        "colab": {
          "base_uri": "https://localhost:8080/",
          "height": 295
        },
        "outputId": "1245a704-e793-49ca-cf42-19ddd6b7df84"
      },
      "source": [
        "import matplotlib.pyplot as plt\n",
        "noise_list_plot=np.array(noise_list)\n",
        "plt.plot(noise_list_plot, acc_list_noise)  \n",
        "plt.title(\"Test accuracy vs noise_std\")\n",
        "plt.xlabel(\"norm of gaussian noise\")\n",
        "plt.ylabel(\"test accuracy\")\n",
        "\n",
        "plt.ylim(0.8, 1)\n",
        "plt.xlim(0, 0.5)\n",
        "plt.show() "
      ],
      "execution_count": 8,
      "outputs": [
        {
          "output_type": "display_data",
          "data": {
            "image/png": "[encoded data removed]",
            "text/plain": [
              "<Figure size 432x288 with 1 Axes>"
            ]
          },
          "metadata": {
            "tags": [],
            "needs_background": "light"
          }
        }
      ]
    },
    {
      "cell_type": "code",
      "metadata": {
        "id": "5LJmQZ1AZFC3",
        "colab_type": "code",
        "colab": {}
      },
      "source": [
        "print(acc_list_noise)"
      ],
      "execution_count": 0,
      "outputs": []
    }
  ]
}